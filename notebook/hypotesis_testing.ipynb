{
 "cells": [
  {
   "cell_type": "markdown",
   "metadata": {},
   "source": [
    "# Import the libraries that are necesaries"
   ]
  },
  {
   "cell_type": "code",
   "execution_count": 1,
   "metadata": {},
   "outputs": [],
   "source": [
    "import pandas as pd\n",
    "import seaborn as sns\n",
    "import matplotlib.pyplot as plt\n",
    "import getpass  # To get the password without showing the input\n",
    "from sqlalchemy import create_engine, text\n",
    "from scipy.stats import pearsonr, spearmanr, ttest_ind"
   ]
  },
  {
   "cell_type": "markdown",
   "metadata": {},
   "source": [
    "Connect to MySQL"
   ]
  },
  {
   "cell_type": "code",
   "execution_count": 2,
   "metadata": {},
   "outputs": [],
   "source": [
    "password = getpass.getpass()\n",
    "user = 'root'\n",
    "database_name = 'steam_games'\n",
    "connection_string = f'mysql+pymysql://{user}:' + password + '@localhost/' + database_name\n",
    "engine = create_engine(connection_string)"
   ]
  },
  {
   "cell_type": "markdown",
   "metadata": {},
   "source": [
    "### Hypothesis and their testings"
   ]
  },
  {
   "cell_type": "markdown",
   "metadata": {},
   "source": [
    "# 1. Game Popularity vs. Features:\n",
    "- *Theory*: Peak concurrent users (peak_ccu) of games are generally higher when their estimated owners are higher.\n",
    "- *Analysis*: Peak_ccu and estimated owners' correlation with one another."
   ]
  },
  {
   "cell_type": "code",
   "execution_count": 3,
   "metadata": {},
   "outputs": [
    {
     "data": {
      "text/html": [
       "<div>\n",
       "<style scoped>\n",
       "    .dataframe tbody tr th:only-of-type {\n",
       "        vertical-align: middle;\n",
       "    }\n",
       "\n",
       "    .dataframe tbody tr th {\n",
       "        vertical-align: top;\n",
       "    }\n",
       "\n",
       "    .dataframe thead th {\n",
       "        text-align: right;\n",
       "    }\n",
       "</style>\n",
       "<table border=\"1\" class=\"dataframe\">\n",
       "  <thead>\n",
       "    <tr style=\"text-align: right;\">\n",
       "      <th></th>\n",
       "      <th>appid</th>\n",
       "      <th>estimated_owners</th>\n",
       "      <th>peak_ccu</th>\n",
       "    </tr>\n",
       "  </thead>\n",
       "  <tbody>\n",
       "    <tr>\n",
       "      <th>0</th>\n",
       "      <td>10</td>\n",
       "      <td>15000000.0</td>\n",
       "      <td>13230.0</td>\n",
       "    </tr>\n",
       "    <tr>\n",
       "      <th>1</th>\n",
       "      <td>20</td>\n",
       "      <td>7500000.0</td>\n",
       "      <td>110.0</td>\n",
       "    </tr>\n",
       "    <tr>\n",
       "      <th>2</th>\n",
       "      <td>30</td>\n",
       "      <td>7500000.0</td>\n",
       "      <td>106.0</td>\n",
       "    </tr>\n",
       "    <tr>\n",
       "      <th>3</th>\n",
       "      <td>40</td>\n",
       "      <td>7500000.0</td>\n",
       "      <td>2.0</td>\n",
       "    </tr>\n",
       "    <tr>\n",
       "      <th>4</th>\n",
       "      <td>50</td>\n",
       "      <td>7500000.0</td>\n",
       "      <td>120.0</td>\n",
       "    </tr>\n",
       "    <tr>\n",
       "      <th>...</th>\n",
       "      <td>...</td>\n",
       "      <td>...</td>\n",
       "      <td>...</td>\n",
       "    </tr>\n",
       "    <tr>\n",
       "      <th>85098</th>\n",
       "      <td>2760980</td>\n",
       "      <td>0.0</td>\n",
       "      <td>0.0</td>\n",
       "    </tr>\n",
       "    <tr>\n",
       "      <th>85099</th>\n",
       "      <td>2761170</td>\n",
       "      <td>0.0</td>\n",
       "      <td>0.0</td>\n",
       "    </tr>\n",
       "    <tr>\n",
       "      <th>85100</th>\n",
       "      <td>2763480</td>\n",
       "      <td>0.0</td>\n",
       "      <td>0.0</td>\n",
       "    </tr>\n",
       "    <tr>\n",
       "      <th>85101</th>\n",
       "      <td>2764930</td>\n",
       "      <td>0.0</td>\n",
       "      <td>0.0</td>\n",
       "    </tr>\n",
       "    <tr>\n",
       "      <th>85102</th>\n",
       "      <td>2765800</td>\n",
       "      <td>0.0</td>\n",
       "      <td>0.0</td>\n",
       "    </tr>\n",
       "  </tbody>\n",
       "</table>\n",
       "<p>85103 rows × 3 columns</p>\n",
       "</div>"
      ],
      "text/plain": [
       "         appid  estimated_owners  peak_ccu\n",
       "0           10        15000000.0   13230.0\n",
       "1           20         7500000.0     110.0\n",
       "2           30         7500000.0     106.0\n",
       "3           40         7500000.0       2.0\n",
       "4           50         7500000.0     120.0\n",
       "...        ...               ...       ...\n",
       "85098  2760980               0.0       0.0\n",
       "85099  2761170               0.0       0.0\n",
       "85100  2763480               0.0       0.0\n",
       "85101  2764930               0.0       0.0\n",
       "85102  2765800               0.0       0.0\n",
       "\n",
       "[85103 rows x 3 columns]"
      ]
     },
     "execution_count": 3,
     "metadata": {},
     "output_type": "execute_result"
    }
   ],
   "source": [
    "with engine.connect() as connection:\n",
    "    # Query to extract relevant columns from df_final_demo\n",
    "    txt = '''SELECT\n",
    "                appid,\n",
    "                estimated_owners,\n",
    "                peak_ccu\n",
    "            FROM\n",
    "                game;'''\n",
    "    query = text(txt)\n",
    "    result = connection.execute(query)\n",
    "    game_df = pd.DataFrame(result.all())\n",
    "\n",
    "game_df"
   ]
  },
  {
   "cell_type": "markdown",
   "metadata": {},
   "source": [
    "### Formulate Hypotheses:\n",
    "- *Null Hypothesis*: Estimated owners and peak concurrent users do not significantly correlate.\n",
    "- *Alternative Hypothesis*: Peak concurrent users and estimated owners have a substantial positive association."
   ]
  },
  {
   "cell_type": "code",
   "execution_count": 4,
   "metadata": {},
   "outputs": [
    {
     "data": {
      "text/html": [
       "<div>\n",
       "<style scoped>\n",
       "    .dataframe tbody tr th:only-of-type {\n",
       "        vertical-align: middle;\n",
       "    }\n",
       "\n",
       "    .dataframe tbody tr th {\n",
       "        vertical-align: top;\n",
       "    }\n",
       "\n",
       "    .dataframe thead th {\n",
       "        text-align: right;\n",
       "    }\n",
       "</style>\n",
       "<table border=\"1\" class=\"dataframe\">\n",
       "  <thead>\n",
       "    <tr style=\"text-align: right;\">\n",
       "      <th></th>\n",
       "      <th>appid</th>\n",
       "      <th>estimated_owners</th>\n",
       "      <th>peak_ccu</th>\n",
       "    </tr>\n",
       "  </thead>\n",
       "  <tbody>\n",
       "    <tr>\n",
       "      <th>count</th>\n",
       "      <td>8.510300e+04</td>\n",
       "      <td>8.510300e+04</td>\n",
       "      <td>85103.000000</td>\n",
       "    </tr>\n",
       "    <tr>\n",
       "      <th>mean</th>\n",
       "      <td>1.355681e+06</td>\n",
       "      <td>8.589215e+04</td>\n",
       "      <td>134.872930</td>\n",
       "    </tr>\n",
       "    <tr>\n",
       "      <th>std</th>\n",
       "      <td>6.949952e+05</td>\n",
       "      <td>1.027754e+06</td>\n",
       "      <td>5403.548851</td>\n",
       "    </tr>\n",
       "    <tr>\n",
       "      <th>min</th>\n",
       "      <td>1.000000e+01</td>\n",
       "      <td>0.000000e+00</td>\n",
       "      <td>0.000000</td>\n",
       "    </tr>\n",
       "    <tr>\n",
       "      <th>25%</th>\n",
       "      <td>7.723900e+05</td>\n",
       "      <td>1.000000e+04</td>\n",
       "      <td>0.000000</td>\n",
       "    </tr>\n",
       "    <tr>\n",
       "      <th>50%</th>\n",
       "      <td>1.331540e+06</td>\n",
       "      <td>1.000000e+04</td>\n",
       "      <td>0.000000</td>\n",
       "    </tr>\n",
       "    <tr>\n",
       "      <th>75%</th>\n",
       "      <td>1.918415e+06</td>\n",
       "      <td>1.000000e+04</td>\n",
       "      <td>1.000000</td>\n",
       "    </tr>\n",
       "    <tr>\n",
       "      <th>max</th>\n",
       "      <td>2.765800e+06</td>\n",
       "      <td>1.500000e+08</td>\n",
       "      <td>872138.000000</td>\n",
       "    </tr>\n",
       "  </tbody>\n",
       "</table>\n",
       "</div>"
      ],
      "text/plain": [
       "              appid  estimated_owners       peak_ccu\n",
       "count  8.510300e+04      8.510300e+04   85103.000000\n",
       "mean   1.355681e+06      8.589215e+04     134.872930\n",
       "std    6.949952e+05      1.027754e+06    5403.548851\n",
       "min    1.000000e+01      0.000000e+00       0.000000\n",
       "25%    7.723900e+05      1.000000e+04       0.000000\n",
       "50%    1.331540e+06      1.000000e+04       0.000000\n",
       "75%    1.918415e+06      1.000000e+04       1.000000\n",
       "max    2.765800e+06      1.500000e+08  872138.000000"
      ]
     },
     "execution_count": 4,
     "metadata": {},
     "output_type": "execute_result"
    }
   ],
   "source": [
    "game_df.describe()"
   ]
  },
  {
   "cell_type": "markdown",
   "metadata": {},
   "source": [
    "Scatter Plot of the data"
   ]
  },
  {
   "cell_type": "code",
   "execution_count": 5,
   "metadata": {},
   "outputs": [
    {
     "data": {
      "image/png": "[encoded data removed]",
      "text/plain": [
       "<Figure size 640x480 with 1 Axes>"
      ]
     },
     "metadata": {},
     "output_type": "display_data"
    }
   ],
   "source": [
    "# Scatter plot\n",
    "plt.scatter(game_df['estimated_owners'], game_df['peak_ccu'])\n",
    "plt.xlabel('Estimated Owners')\n",
    "plt.ylabel('Peak CCU')\n",
    "plt.title('Scatter Plot: Estimated Owners vs. Peak CCU')\n",
    "plt.show()"
   ]
  },
  {
   "cell_type": "markdown",
   "metadata": {},
   "source": [
    "Calculate Pearson Correlation Coefficient and the P_Values"
   ]
  },
  {
   "cell_type": "code",
   "execution_count": 6,
   "metadata": {},
   "outputs": [
    {
     "name": "stdout",
     "output_type": "stream",
     "text": [
      "The Pearson Correlation Coefficient is: 0.5364963718065698\n",
      "The Pearson P_Value is: 0.0\n"
     ]
    }
   ],
   "source": [
    "# Calculate Pearson correlation coefficient and p-value\n",
    "correlation, p_value = pearsonr(game_df['estimated_owners'], game_df['peak_ccu'])\n",
    "print(f'The Pearson Correlation Coefficient is: {correlation}')\n",
    "print(f'The Pearson P_Value is: {p_value}')"
   ]
  },
  {
   "cell_type": "markdown",
   "metadata": {},
   "source": [
    "Conduct Hypothesis Test"
   ]
  },
  {
   "cell_type": "code",
   "execution_count": 7,
   "metadata": {},
   "outputs": [
    {
     "name": "stdout",
     "output_type": "stream",
     "text": [
      "Reject the null hypothesis as a result. A notable association exists.\n"
     ]
    }
   ],
   "source": [
    "# Check for statistical significance\n",
    "if p_value < 0.05:\n",
    "    print(\"Reject the null hypothesis as a result. A notable association exists.\")\n",
    "else:\n",
    "    print(\"Consequently, the null hypothesis is not rejected. Not a very strong link.\")"
   ]
  },
  {
   "cell_type": "markdown",
   "metadata": {},
   "source": [
    "# 2. Impact of Platforms on Game Adoption:\n",
    "- *Theory*: There are more players in games that are accessible on several platforms (Windows, Mac, and Linux).\n",
    "- *Analysis*: Examine the approximate ownership of games that are accessible across several platforms."
   ]
  },
  {
   "cell_type": "code",
   "execution_count": 8,
   "metadata": {},
   "outputs": [
    {
     "data": {
      "text/html": [
       "<div>\n",
       "<style scoped>\n",
       "    .dataframe tbody tr th:only-of-type {\n",
       "        vertical-align: middle;\n",
       "    }\n",
       "\n",
       "    .dataframe tbody tr th {\n",
       "        vertical-align: top;\n",
       "    }\n",
       "\n",
       "    .dataframe thead th {\n",
       "        text-align: right;\n",
       "    }\n",
       "</style>\n",
       "<table border=\"1\" class=\"dataframe\">\n",
       "  <thead>\n",
       "    <tr style=\"text-align: right;\">\n",
       "      <th></th>\n",
       "      <th>estimated_owners</th>\n",
       "      <th>peak_ccu</th>\n",
       "      <th>windows</th>\n",
       "      <th>mac</th>\n",
       "      <th>linux</th>\n",
       "    </tr>\n",
       "  </thead>\n",
       "  <tbody>\n",
       "    <tr>\n",
       "      <th>0</th>\n",
       "      <td>15000000.0</td>\n",
       "      <td>13230.0</td>\n",
       "      <td>1</td>\n",
       "      <td>1</td>\n",
       "      <td>1</td>\n",
       "    </tr>\n",
       "    <tr>\n",
       "      <th>1</th>\n",
       "      <td>7500000.0</td>\n",
       "      <td>110.0</td>\n",
       "      <td>1</td>\n",
       "      <td>1</td>\n",
       "      <td>1</td>\n",
       "    </tr>\n",
       "    <tr>\n",
       "      <th>2</th>\n",
       "      <td>7500000.0</td>\n",
       "      <td>106.0</td>\n",
       "      <td>1</td>\n",
       "      <td>1</td>\n",
       "      <td>1</td>\n",
       "    </tr>\n",
       "    <tr>\n",
       "      <th>3</th>\n",
       "      <td>7500000.0</td>\n",
       "      <td>2.0</td>\n",
       "      <td>1</td>\n",
       "      <td>1</td>\n",
       "      <td>1</td>\n",
       "    </tr>\n",
       "    <tr>\n",
       "      <th>4</th>\n",
       "      <td>7500000.0</td>\n",
       "      <td>120.0</td>\n",
       "      <td>1</td>\n",
       "      <td>1</td>\n",
       "      <td>1</td>\n",
       "    </tr>\n",
       "    <tr>\n",
       "      <th>...</th>\n",
       "      <td>...</td>\n",
       "      <td>...</td>\n",
       "      <td>...</td>\n",
       "      <td>...</td>\n",
       "      <td>...</td>\n",
       "    </tr>\n",
       "    <tr>\n",
       "      <th>85098</th>\n",
       "      <td>0.0</td>\n",
       "      <td>0.0</td>\n",
       "      <td>1</td>\n",
       "      <td>0</td>\n",
       "      <td>0</td>\n",
       "    </tr>\n",
       "    <tr>\n",
       "      <th>85099</th>\n",
       "      <td>0.0</td>\n",
       "      <td>0.0</td>\n",
       "      <td>1</td>\n",
       "      <td>0</td>\n",
       "      <td>0</td>\n",
       "    </tr>\n",
       "    <tr>\n",
       "      <th>85100</th>\n",
       "      <td>0.0</td>\n",
       "      <td>0.0</td>\n",
       "      <td>1</td>\n",
       "      <td>0</td>\n",
       "      <td>0</td>\n",
       "    </tr>\n",
       "    <tr>\n",
       "      <th>85101</th>\n",
       "      <td>0.0</td>\n",
       "      <td>0.0</td>\n",
       "      <td>1</td>\n",
       "      <td>0</td>\n",
       "      <td>0</td>\n",
       "    </tr>\n",
       "    <tr>\n",
       "      <th>85102</th>\n",
       "      <td>0.0</td>\n",
       "      <td>0.0</td>\n",
       "      <td>1</td>\n",
       "      <td>0</td>\n",
       "      <td>0</td>\n",
       "    </tr>\n",
       "  </tbody>\n",
       "</table>\n",
       "<p>85103 rows × 5 columns</p>\n",
       "</div>"
      ],
      "text/plain": [
       "       estimated_owners  peak_ccu  windows  mac  linux\n",
       "0            15000000.0   13230.0        1    1      1\n",
       "1             7500000.0     110.0        1    1      1\n",
       "2             7500000.0     106.0        1    1      1\n",
       "3             7500000.0       2.0        1    1      1\n",
       "4             7500000.0     120.0        1    1      1\n",
       "...                 ...       ...      ...  ...    ...\n",
       "85098               0.0       0.0        1    0      0\n",
       "85099               0.0       0.0        1    0      0\n",
       "85100               0.0       0.0        1    0      0\n",
       "85101               0.0       0.0        1    0      0\n",
       "85102               0.0       0.0        1    0      0\n",
       "\n",
       "[85103 rows x 5 columns]"
      ]
     },
     "execution_count": 8,
     "metadata": {},
     "output_type": "execute_result"
    }
   ],
   "source": [
    "with engine.connect() as connection:\n",
    "    # Query to extract relevant columns from df_final_demo\n",
    "    txt = '''SELECT \n",
    "                game.estimated_owners, \n",
    "                game.peak_ccu, \n",
    "                platform.windows, \n",
    "                platform.mac, \n",
    "                platform.linux\n",
    "            FROM game\n",
    "            JOIN platform ON game.appid = platform.appid;'''\n",
    "    query = text(txt)\n",
    "    result = connection.execute(query)\n",
    "    platform_df = pd.DataFrame(result.all())\n",
    "\n",
    "platform_df"
   ]
  },
  {
   "cell_type": "markdown",
   "metadata": {},
   "source": [
    "Formulate Hypotheses:\n",
    "- *Null Hypothesis*: The number of players in games that are accessible on various platform combinations does not significantly differ from one another.\n",
    "- *Alternative Hypothesis*: Compared to games on a single platform, games available on many platforms have a larger user base."
   ]
  },
  {
   "cell_type": "code",
   "execution_count": 9,
   "metadata": {},
   "outputs": [
    {
     "data": {
      "text/html": [
       "<div>\n",
       "<style scoped>\n",
       "    .dataframe tbody tr th:only-of-type {\n",
       "        vertical-align: middle;\n",
       "    }\n",
       "\n",
       "    .dataframe tbody tr th {\n",
       "        vertical-align: top;\n",
       "    }\n",
       "\n",
       "    .dataframe thead th {\n",
       "        text-align: right;\n",
       "    }\n",
       "</style>\n",
       "<table border=\"1\" class=\"dataframe\">\n",
       "  <thead>\n",
       "    <tr style=\"text-align: right;\">\n",
       "      <th></th>\n",
       "      <th>estimated_owners</th>\n",
       "      <th>peak_ccu</th>\n",
       "      <th>windows</th>\n",
       "      <th>mac</th>\n",
       "      <th>linux</th>\n",
       "    </tr>\n",
       "  </thead>\n",
       "  <tbody>\n",
       "    <tr>\n",
       "      <th>count</th>\n",
       "      <td>8.510300e+04</td>\n",
       "      <td>85103.000000</td>\n",
       "      <td>85103.000000</td>\n",
       "      <td>85103.000000</td>\n",
       "      <td>85103.000000</td>\n",
       "    </tr>\n",
       "    <tr>\n",
       "      <th>mean</th>\n",
       "      <td>8.589215e+04</td>\n",
       "      <td>134.872930</td>\n",
       "      <td>0.999647</td>\n",
       "      <td>0.192625</td>\n",
       "      <td>0.131558</td>\n",
       "    </tr>\n",
       "    <tr>\n",
       "      <th>std</th>\n",
       "      <td>1.027754e+06</td>\n",
       "      <td>5403.548851</td>\n",
       "      <td>0.018772</td>\n",
       "      <td>0.394364</td>\n",
       "      <td>0.338012</td>\n",
       "    </tr>\n",
       "    <tr>\n",
       "      <th>min</th>\n",
       "      <td>0.000000e+00</td>\n",
       "      <td>0.000000</td>\n",
       "      <td>0.000000</td>\n",
       "      <td>0.000000</td>\n",
       "      <td>0.000000</td>\n",
       "    </tr>\n",
       "    <tr>\n",
       "      <th>25%</th>\n",
       "      <td>1.000000e+04</td>\n",
       "      <td>0.000000</td>\n",
       "      <td>1.000000</td>\n",
       "      <td>0.000000</td>\n",
       "      <td>0.000000</td>\n",
       "    </tr>\n",
       "    <tr>\n",
       "      <th>50%</th>\n",
       "      <td>1.000000e+04</td>\n",
       "      <td>0.000000</td>\n",
       "      <td>1.000000</td>\n",
       "      <td>0.000000</td>\n",
       "      <td>0.000000</td>\n",
       "    </tr>\n",
       "    <tr>\n",
       "      <th>75%</th>\n",
       "      <td>1.000000e+04</td>\n",
       "      <td>1.000000</td>\n",
       "      <td>1.000000</td>\n",
       "      <td>0.000000</td>\n",
       "      <td>0.000000</td>\n",
       "    </tr>\n",
       "    <tr>\n",
       "      <th>max</th>\n",
       "      <td>1.500000e+08</td>\n",
       "      <td>872138.000000</td>\n",
       "      <td>1.000000</td>\n",
       "      <td>1.000000</td>\n",
       "      <td>1.000000</td>\n",
       "    </tr>\n",
       "  </tbody>\n",
       "</table>\n",
       "</div>"
      ],
      "text/plain": [
       "       estimated_owners       peak_ccu       windows           mac  \\\n",
       "count      8.510300e+04   85103.000000  85103.000000  85103.000000   \n",
       "mean       8.589215e+04     134.872930      0.999647      0.192625   \n",
       "std        1.027754e+06    5403.548851      0.018772      0.394364   \n",
       "min        0.000000e+00       0.000000      0.000000      0.000000   \n",
       "25%        1.000000e+04       0.000000      1.000000      0.000000   \n",
       "50%        1.000000e+04       0.000000      1.000000      0.000000   \n",
       "75%        1.000000e+04       1.000000      1.000000      0.000000   \n",
       "max        1.500000e+08  872138.000000      1.000000      1.000000   \n",
       "\n",
       "              linux  \n",
       "count  85103.000000  \n",
       "mean       0.131558  \n",
       "std        0.338012  \n",
       "min        0.000000  \n",
       "25%        0.000000  \n",
       "50%        0.000000  \n",
       "75%        0.000000  \n",
       "max        1.000000  "
      ]
     },
     "execution_count": 9,
     "metadata": {},
     "output_type": "execute_result"
    }
   ],
   "source": [
    "platform_df.describe()"
   ]
  },
  {
   "cell_type": "markdown",
   "metadata": {},
   "source": [
    "Add a Column that counts the games that have multiple platforms"
   ]
  },
  {
   "cell_type": "code",
   "execution_count": 10,
   "metadata": {},
   "outputs": [
    {
     "data": {
      "text/html": [
       "<div>\n",
       "<style scoped>\n",
       "    .dataframe tbody tr th:only-of-type {\n",
       "        vertical-align: middle;\n",
       "    }\n",
       "\n",
       "    .dataframe tbody tr th {\n",
       "        vertical-align: top;\n",
       "    }\n",
       "\n",
       "    .dataframe thead th {\n",
       "        text-align: right;\n",
       "    }\n",
       "</style>\n",
       "<table border=\"1\" class=\"dataframe\">\n",
       "  <thead>\n",
       "    <tr style=\"text-align: right;\">\n",
       "      <th></th>\n",
       "      <th>estimated_owners</th>\n",
       "      <th>peak_ccu</th>\n",
       "      <th>windows</th>\n",
       "      <th>mac</th>\n",
       "      <th>linux</th>\n",
       "      <th>Multiple Platforms</th>\n",
       "    </tr>\n",
       "  </thead>\n",
       "  <tbody>\n",
       "    <tr>\n",
       "      <th>0</th>\n",
       "      <td>15000000.0</td>\n",
       "      <td>13230.0</td>\n",
       "      <td>1</td>\n",
       "      <td>1</td>\n",
       "      <td>1</td>\n",
       "      <td>True</td>\n",
       "    </tr>\n",
       "    <tr>\n",
       "      <th>1</th>\n",
       "      <td>7500000.0</td>\n",
       "      <td>110.0</td>\n",
       "      <td>1</td>\n",
       "      <td>1</td>\n",
       "      <td>1</td>\n",
       "      <td>True</td>\n",
       "    </tr>\n",
       "    <tr>\n",
       "      <th>2</th>\n",
       "      <td>7500000.0</td>\n",
       "      <td>106.0</td>\n",
       "      <td>1</td>\n",
       "      <td>1</td>\n",
       "      <td>1</td>\n",
       "      <td>True</td>\n",
       "    </tr>\n",
       "    <tr>\n",
       "      <th>3</th>\n",
       "      <td>7500000.0</td>\n",
       "      <td>2.0</td>\n",
       "      <td>1</td>\n",
       "      <td>1</td>\n",
       "      <td>1</td>\n",
       "      <td>True</td>\n",
       "    </tr>\n",
       "    <tr>\n",
       "      <th>4</th>\n",
       "      <td>7500000.0</td>\n",
       "      <td>120.0</td>\n",
       "      <td>1</td>\n",
       "      <td>1</td>\n",
       "      <td>1</td>\n",
       "      <td>True</td>\n",
       "    </tr>\n",
       "    <tr>\n",
       "      <th>...</th>\n",
       "      <td>...</td>\n",
       "      <td>...</td>\n",
       "      <td>...</td>\n",
       "      <td>...</td>\n",
       "      <td>...</td>\n",
       "      <td>...</td>\n",
       "    </tr>\n",
       "    <tr>\n",
       "      <th>85098</th>\n",
       "      <td>0.0</td>\n",
       "      <td>0.0</td>\n",
       "      <td>1</td>\n",
       "      <td>0</td>\n",
       "      <td>0</td>\n",
       "      <td>False</td>\n",
       "    </tr>\n",
       "    <tr>\n",
       "      <th>85099</th>\n",
       "      <td>0.0</td>\n",
       "      <td>0.0</td>\n",
       "      <td>1</td>\n",
       "      <td>0</td>\n",
       "      <td>0</td>\n",
       "      <td>False</td>\n",
       "    </tr>\n",
       "    <tr>\n",
       "      <th>85100</th>\n",
       "      <td>0.0</td>\n",
       "      <td>0.0</td>\n",
       "      <td>1</td>\n",
       "      <td>0</td>\n",
       "      <td>0</td>\n",
       "      <td>False</td>\n",
       "    </tr>\n",
       "    <tr>\n",
       "      <th>85101</th>\n",
       "      <td>0.0</td>\n",
       "      <td>0.0</td>\n",
       "      <td>1</td>\n",
       "      <td>0</td>\n",
       "      <td>0</td>\n",
       "      <td>False</td>\n",
       "    </tr>\n",
       "    <tr>\n",
       "      <th>85102</th>\n",
       "      <td>0.0</td>\n",
       "      <td>0.0</td>\n",
       "      <td>1</td>\n",
       "      <td>0</td>\n",
       "      <td>0</td>\n",
       "      <td>False</td>\n",
       "    </tr>\n",
       "  </tbody>\n",
       "</table>\n",
       "<p>85103 rows × 6 columns</p>\n",
       "</div>"
      ],
      "text/plain": [
       "       estimated_owners  peak_ccu  windows  mac  linux  Multiple Platforms\n",
       "0            15000000.0   13230.0        1    1      1                True\n",
       "1             7500000.0     110.0        1    1      1                True\n",
       "2             7500000.0     106.0        1    1      1                True\n",
       "3             7500000.0       2.0        1    1      1                True\n",
       "4             7500000.0     120.0        1    1      1                True\n",
       "...                 ...       ...      ...  ...    ...                 ...\n",
       "85098               0.0       0.0        1    0      0               False\n",
       "85099               0.0       0.0        1    0      0               False\n",
       "85100               0.0       0.0        1    0      0               False\n",
       "85101               0.0       0.0        1    0      0               False\n",
       "85102               0.0       0.0        1    0      0               False\n",
       "\n",
       "[85103 rows x 6 columns]"
      ]
     },
     "execution_count": 10,
     "metadata": {},
     "output_type": "execute_result"
    }
   ],
   "source": [
    "platform_df['Multiple Platforms'] = platform_df[['windows', 'mac', 'linux']].sum(axis=1) > 1\n",
    "platform_df"
   ]
  },
  {
   "cell_type": "markdown",
   "metadata": {},
   "source": [
    "Boxplot of the data"
   ]
  },
  {
   "cell_type": "code",
   "execution_count": 11,
   "metadata": {},
   "outputs": [
    {
     "data": {
      "image/png": "[encoded data removed]",
      "text/plain": [
       "<Figure size 640x480 with 1 Axes>"
      ]
     },
     "metadata": {},
     "output_type": "display_data"
    }
   ],
   "source": [
    "# Boxplot\n",
    "sns.boxplot(x='Multiple Platforms', y='estimated_owners', data=platform_df)\n",
    "plt.title('Estimated Owners by Platform')\n",
    "plt.xlabel('Multiple Platforms')\n",
    "plt.ylabel('Estimated Owners')\n",
    "plt.show()"
   ]
  },
  {
   "cell_type": "markdown",
   "metadata": {},
   "source": [
    "Calculate T-Test Statistic and P_Values"
   ]
  },
  {
   "cell_type": "code",
   "execution_count": 12,
   "metadata": {},
   "outputs": [
    {
     "name": "stdout",
     "output_type": "stream",
     "text": [
      "The Pearson Correlation Coefficient is: 0.5364963718065698\n",
      "The Pearson P_Value is: 0.0\n"
     ]
    }
   ],
   "source": [
    "# T-test for Windows vs. Multiple Platforms\n",
    "t_statistic, p_value_ttest = ttest_ind(platform_df['estimated_owners'][platform_df['windows']],\n",
    "                         platform_df['estimated_owners'][platform_df['Multiple Platforms']],\n",
    "                         equal_var=False)  # Assuming unequal variances\n",
    "print(f'The Pearson Correlation Coefficient is: {correlation}')\n",
    "print(f'The Pearson P_Value is: {p_value}')"
   ]
  },
  {
   "cell_type": "markdown",
   "metadata": {},
   "source": [
    "Conduct hypothesis testing"
   ]
  },
  {
   "cell_type": "code",
   "execution_count": 13,
   "metadata": {},
   "outputs": [
    {
     "name": "stdout",
     "output_type": "stream",
     "text": [
      "Reject the null hypothesis as a result. The player base on Windows and Multiple Platforms differs significantly.\n"
     ]
    }
   ],
   "source": [
    "# Check for statistical significance\n",
    "if p_value_ttest < 0.05:\n",
    "    print(\"Reject the null hypothesis as a result. The player base on Windows and Multiple Platforms differs significantly.\")\n",
    "else:\n",
    "    print(\"Consequently, the null hypothesis is not rejected. There isn't much of a player base difference between Windows and several platforms.\")"
   ]
  },
  {
   "cell_type": "markdown",
   "metadata": {},
   "source": [
    "# 3. Metacritic Score and User Feedback:\n",
    "- *Theory*: The user and Metacritic scores are positively correlated.\n",
    "- *Analysis*: Comparison of the user_score and metacritic_score correlation."
   ]
  },
  {
   "cell_type": "code",
   "execution_count": 14,
   "metadata": {},
   "outputs": [
    {
     "data": {
      "text/html": [
       "<div>\n",
       "<style scoped>\n",
       "    .dataframe tbody tr th:only-of-type {\n",
       "        vertical-align: middle;\n",
       "    }\n",
       "\n",
       "    .dataframe tbody tr th {\n",
       "        vertical-align: top;\n",
       "    }\n",
       "\n",
       "    .dataframe thead th {\n",
       "        text-align: right;\n",
       "    }\n",
       "</style>\n",
       "<table border=\"1\" class=\"dataframe\">\n",
       "  <thead>\n",
       "    <tr style=\"text-align: right;\">\n",
       "      <th></th>\n",
       "      <th>metacritic_score</th>\n",
       "      <th>user_score</th>\n",
       "    </tr>\n",
       "  </thead>\n",
       "  <tbody>\n",
       "    <tr>\n",
       "      <th>0</th>\n",
       "      <td>88.0</td>\n",
       "      <td>0.0</td>\n",
       "    </tr>\n",
       "    <tr>\n",
       "      <th>1</th>\n",
       "      <td>0.0</td>\n",
       "      <td>0.0</td>\n",
       "    </tr>\n",
       "    <tr>\n",
       "      <th>2</th>\n",
       "      <td>79.0</td>\n",
       "      <td>0.0</td>\n",
       "    </tr>\n",
       "    <tr>\n",
       "      <th>3</th>\n",
       "      <td>0.0</td>\n",
       "      <td>0.0</td>\n",
       "    </tr>\n",
       "    <tr>\n",
       "      <th>4</th>\n",
       "      <td>0.0</td>\n",
       "      <td>0.0</td>\n",
       "    </tr>\n",
       "    <tr>\n",
       "      <th>...</th>\n",
       "      <td>...</td>\n",
       "      <td>...</td>\n",
       "    </tr>\n",
       "    <tr>\n",
       "      <th>85098</th>\n",
       "      <td>0.0</td>\n",
       "      <td>0.0</td>\n",
       "    </tr>\n",
       "    <tr>\n",
       "      <th>85099</th>\n",
       "      <td>0.0</td>\n",
       "      <td>0.0</td>\n",
       "    </tr>\n",
       "    <tr>\n",
       "      <th>85100</th>\n",
       "      <td>0.0</td>\n",
       "      <td>0.0</td>\n",
       "    </tr>\n",
       "    <tr>\n",
       "      <th>85101</th>\n",
       "      <td>0.0</td>\n",
       "      <td>0.0</td>\n",
       "    </tr>\n",
       "    <tr>\n",
       "      <th>85102</th>\n",
       "      <td>0.0</td>\n",
       "      <td>0.0</td>\n",
       "    </tr>\n",
       "  </tbody>\n",
       "</table>\n",
       "<p>85103 rows × 2 columns</p>\n",
       "</div>"
      ],
      "text/plain": [
       "       metacritic_score  user_score\n",
       "0                  88.0         0.0\n",
       "1                   0.0         0.0\n",
       "2                  79.0         0.0\n",
       "3                   0.0         0.0\n",
       "4                   0.0         0.0\n",
       "...                 ...         ...\n",
       "85098               0.0         0.0\n",
       "85099               0.0         0.0\n",
       "85100               0.0         0.0\n",
       "85101               0.0         0.0\n",
       "85102               0.0         0.0\n",
       "\n",
       "[85103 rows x 2 columns]"
      ]
     },
     "execution_count": 14,
     "metadata": {},
     "output_type": "execute_result"
    }
   ],
   "source": [
    "with engine.connect() as connection:\n",
    "    # Query to extract relevant columns from df_final_demo\n",
    "    txt = '''SELECT \n",
    "                metacritic.metacritic_score, \n",
    "                user_feedback.user_score\n",
    "            FROM metacritic\n",
    "            JOIN user_feedback ON metacritic.appid = user_feedback.appid;'''\n",
    "    query = text(txt)\n",
    "    result = connection.execute(query)\n",
    "    user_score_df = pd.DataFrame(result.all())\n",
    "\n",
    "user_score_df"
   ]
  },
  {
   "cell_type": "markdown",
   "metadata": {},
   "source": [
    "Formulate Hypotheses:\n",
    "- *Null Hypothesis*: There is no discernible relationship (ρ = 0) between user and Metacritic scores.\n",
    "- *Alternative Hypothesis*: User scores and Metacritic scores have a substantial positive connection (ρ > 0)."
   ]
  },
  {
   "cell_type": "code",
   "execution_count": 15,
   "metadata": {},
   "outputs": [
    {
     "data": {
      "text/html": [
       "<div>\n",
       "<style scoped>\n",
       "    .dataframe tbody tr th:only-of-type {\n",
       "        vertical-align: middle;\n",
       "    }\n",
       "\n",
       "    .dataframe tbody tr th {\n",
       "        vertical-align: top;\n",
       "    }\n",
       "\n",
       "    .dataframe thead th {\n",
       "        text-align: right;\n",
       "    }\n",
       "</style>\n",
       "<table border=\"1\" class=\"dataframe\">\n",
       "  <thead>\n",
       "    <tr style=\"text-align: right;\">\n",
       "      <th></th>\n",
       "      <th>metacritic_score</th>\n",
       "      <th>user_score</th>\n",
       "    </tr>\n",
       "  </thead>\n",
       "  <tbody>\n",
       "    <tr>\n",
       "      <th>count</th>\n",
       "      <td>85103.000000</td>\n",
       "      <td>85103.000000</td>\n",
       "    </tr>\n",
       "    <tr>\n",
       "      <th>mean</th>\n",
       "      <td>3.348366</td>\n",
       "      <td>0.039822</td>\n",
       "    </tr>\n",
       "    <tr>\n",
       "      <th>std</th>\n",
       "      <td>15.421471</td>\n",
       "      <td>1.791013</td>\n",
       "    </tr>\n",
       "    <tr>\n",
       "      <th>min</th>\n",
       "      <td>0.000000</td>\n",
       "      <td>0.000000</td>\n",
       "    </tr>\n",
       "    <tr>\n",
       "      <th>25%</th>\n",
       "      <td>0.000000</td>\n",
       "      <td>0.000000</td>\n",
       "    </tr>\n",
       "    <tr>\n",
       "      <th>50%</th>\n",
       "      <td>0.000000</td>\n",
       "      <td>0.000000</td>\n",
       "    </tr>\n",
       "    <tr>\n",
       "      <th>75%</th>\n",
       "      <td>0.000000</td>\n",
       "      <td>0.000000</td>\n",
       "    </tr>\n",
       "    <tr>\n",
       "      <th>max</th>\n",
       "      <td>97.000000</td>\n",
       "      <td>100.000000</td>\n",
       "    </tr>\n",
       "  </tbody>\n",
       "</table>\n",
       "</div>"
      ],
      "text/plain": [
       "       metacritic_score    user_score\n",
       "count      85103.000000  85103.000000\n",
       "mean           3.348366      0.039822\n",
       "std           15.421471      1.791013\n",
       "min            0.000000      0.000000\n",
       "25%            0.000000      0.000000\n",
       "50%            0.000000      0.000000\n",
       "75%            0.000000      0.000000\n",
       "max           97.000000    100.000000"
      ]
     },
     "execution_count": 15,
     "metadata": {},
     "output_type": "execute_result"
    }
   ],
   "source": [
    "user_score_df.describe()"
   ]
  },
  {
   "cell_type": "markdown",
   "metadata": {},
   "source": [
    "Scatter Plot of the data"
   ]
  },
  {
   "cell_type": "code",
   "execution_count": 16,
   "metadata": {},
   "outputs": [
    {
     "data": {
      "image/png": "[encoded data removed]",
      "text/plain": [
       "<Figure size 640x480 with 1 Axes>"
      ]
     },
     "metadata": {},
     "output_type": "display_data"
    }
   ],
   "source": [
    "# Scatter Plot\n",
    "plt.scatter(user_score_df['metacritic_score'], user_score_df['user_score'], alpha=0.5)\n",
    "plt.title('Scatter Plot of Metacritic Scores vs. User Scores')\n",
    "plt.xlabel('Metacritic Score')\n",
    "plt.ylabel('User Score')\n",
    "plt.grid(True)\n",
    "plt.show()"
   ]
  },
  {
   "cell_type": "markdown",
   "metadata": {},
   "source": [
    "Calculate Spearman Correlation Coefficient and the P_Values"
   ]
  },
  {
   "cell_type": "code",
   "execution_count": 17,
   "metadata": {},
   "outputs": [
    {
     "name": "stdout",
     "output_type": "stream",
     "text": [
      "The Spearman Correlation Coefficient is: -0.0025341479894446747\n",
      "The Spearman P_Value is: 0.4597475641931833\n"
     ]
    }
   ],
   "source": [
    "# Calculate Spearman correlation coefficient and p-value\n",
    "correlation, p_value = spearmanr(user_score_df['metacritic_score'], user_score_df['user_score'])\n",
    "print(f'The Spearman Correlation Coefficient is: {correlation}')\n",
    "print(f'The Spearman P_Value is: {p_value}')"
   ]
  },
  {
   "cell_type": "markdown",
   "metadata": {},
   "source": [
    "Conduct Hypotesis testing"
   ]
  },
  {
   "cell_type": "code",
   "execution_count": 18,
   "metadata": {},
   "outputs": [
    {
     "name": "stdout",
     "output_type": "stream",
     "text": [
      "Consequently, the null hypothesis is not rejected. Not a very strong link.\n"
     ]
    }
   ],
   "source": [
    "# Check for statistical significance\n",
    "if p_value < 0.05:\n",
    "    print(\"Reject the null hypothesis as a result. A notable positive association is present.\")\n",
    "else:\n",
    "    print(\"Consequently, the null hypothesis is not rejected. Not a very strong link.\")"
   ]
  },
  {
   "cell_type": "markdown",
   "metadata": {},
   "source": [
    "# 4. Effect of Game Features on Reviews:\n",
    "- *Theory*: There are more achievements in games that have received favorable reviews.\n",
    "- *Analysis*: Examine the typical quantity of achievements in games that have both favorable and unfavorable evaluations."
   ]
  },
  {
   "cell_type": "code",
   "execution_count": 19,
   "metadata": {},
   "outputs": [
    {
     "data": {
      "text/html": [
       "<div>\n",
       "<style scoped>\n",
       "    .dataframe tbody tr th:only-of-type {\n",
       "        vertical-align: middle;\n",
       "    }\n",
       "\n",
       "    .dataframe tbody tr th {\n",
       "        vertical-align: top;\n",
       "    }\n",
       "\n",
       "    .dataframe thead th {\n",
       "        text-align: right;\n",
       "    }\n",
       "</style>\n",
       "<table border=\"1\" class=\"dataframe\">\n",
       "  <thead>\n",
       "    <tr style=\"text-align: right;\">\n",
       "      <th></th>\n",
       "      <th>positive</th>\n",
       "      <th>negative</th>\n",
       "      <th>achievements</th>\n",
       "    </tr>\n",
       "  </thead>\n",
       "  <tbody>\n",
       "    <tr>\n",
       "      <th>0</th>\n",
       "      <td>198387.0</td>\n",
       "      <td>5135.0</td>\n",
       "      <td>0.0</td>\n",
       "    </tr>\n",
       "    <tr>\n",
       "      <th>1</th>\n",
       "      <td>5677.0</td>\n",
       "      <td>923.0</td>\n",
       "      <td>0.0</td>\n",
       "    </tr>\n",
       "    <tr>\n",
       "      <th>2</th>\n",
       "      <td>5179.0</td>\n",
       "      <td>566.0</td>\n",
       "      <td>0.0</td>\n",
       "    </tr>\n",
       "    <tr>\n",
       "      <th>3</th>\n",
       "      <td>1929.0</td>\n",
       "      <td>428.0</td>\n",
       "      <td>0.0</td>\n",
       "    </tr>\n",
       "    <tr>\n",
       "      <th>4</th>\n",
       "      <td>14333.0</td>\n",
       "      <td>718.0</td>\n",
       "      <td>0.0</td>\n",
       "    </tr>\n",
       "    <tr>\n",
       "      <th>...</th>\n",
       "      <td>...</td>\n",
       "      <td>...</td>\n",
       "      <td>...</td>\n",
       "    </tr>\n",
       "    <tr>\n",
       "      <th>85098</th>\n",
       "      <td>0.0</td>\n",
       "      <td>0.0</td>\n",
       "      <td>0.0</td>\n",
       "    </tr>\n",
       "    <tr>\n",
       "      <th>85099</th>\n",
       "      <td>0.0</td>\n",
       "      <td>0.0</td>\n",
       "      <td>0.0</td>\n",
       "    </tr>\n",
       "    <tr>\n",
       "      <th>85100</th>\n",
       "      <td>0.0</td>\n",
       "      <td>0.0</td>\n",
       "      <td>0.0</td>\n",
       "    </tr>\n",
       "    <tr>\n",
       "      <th>85101</th>\n",
       "      <td>0.0</td>\n",
       "      <td>0.0</td>\n",
       "      <td>0.0</td>\n",
       "    </tr>\n",
       "    <tr>\n",
       "      <th>85102</th>\n",
       "      <td>0.0</td>\n",
       "      <td>0.0</td>\n",
       "      <td>0.0</td>\n",
       "    </tr>\n",
       "  </tbody>\n",
       "</table>\n",
       "<p>85103 rows × 3 columns</p>\n",
       "</div>"
      ],
      "text/plain": [
       "       positive  negative  achievements\n",
       "0      198387.0    5135.0           0.0\n",
       "1        5677.0     923.0           0.0\n",
       "2        5179.0     566.0           0.0\n",
       "3        1929.0     428.0           0.0\n",
       "4       14333.0     718.0           0.0\n",
       "...         ...       ...           ...\n",
       "85098       0.0       0.0           0.0\n",
       "85099       0.0       0.0           0.0\n",
       "85100       0.0       0.0           0.0\n",
       "85101       0.0       0.0           0.0\n",
       "85102       0.0       0.0           0.0\n",
       "\n",
       "[85103 rows x 3 columns]"
      ]
     },
     "execution_count": 19,
     "metadata": {},
     "output_type": "execute_result"
    }
   ],
   "source": [
    "with engine.connect() as connection:\n",
    "    # Query to extract relevant columns from df_final_demo\n",
    "    txt = '''SELECT \n",
    "                positive,\n",
    "                negative, \n",
    "                achievements\n",
    "            FROM user_feedback;'''\n",
    "    query = text(txt)\n",
    "    result = connection.execute(query)\n",
    "    feedback_df = pd.DataFrame(result.all())\n",
    "\n",
    "feedback_df"
   ]
  },
  {
   "cell_type": "markdown",
   "metadata": {},
   "source": [
    "Formulate Hypotheses:\n",
    "- *Null Hypothesis*: The number of accomplishments and the number of good evaluations do not significantly correlate.\n",
    "- *Alternative Hypothesis*: There are more achievements in games that have received positive reviews."
   ]
  },
  {
   "cell_type": "code",
   "execution_count": 20,
   "metadata": {},
   "outputs": [
    {
     "data": {
      "text/html": [
       "<div>\n",
       "<style scoped>\n",
       "    .dataframe tbody tr th:only-of-type {\n",
       "        vertical-align: middle;\n",
       "    }\n",
       "\n",
       "    .dataframe tbody tr th {\n",
       "        vertical-align: top;\n",
       "    }\n",
       "\n",
       "    .dataframe thead th {\n",
       "        text-align: right;\n",
       "    }\n",
       "</style>\n",
       "<table border=\"1\" class=\"dataframe\">\n",
       "  <thead>\n",
       "    <tr style=\"text-align: right;\">\n",
       "      <th></th>\n",
       "      <th>positive</th>\n",
       "      <th>negative</th>\n",
       "      <th>achievements</th>\n",
       "    </tr>\n",
       "  </thead>\n",
       "  <tbody>\n",
       "    <tr>\n",
       "      <th>count</th>\n",
       "      <td>8.510300e+04</td>\n",
       "      <td>85103.000000</td>\n",
       "      <td>85103.000000</td>\n",
       "    </tr>\n",
       "    <tr>\n",
       "      <th>mean</th>\n",
       "      <td>9.585609e+02</td>\n",
       "      <td>159.772570</td>\n",
       "      <td>19.859394</td>\n",
       "    </tr>\n",
       "    <tr>\n",
       "      <th>std</th>\n",
       "      <td>2.435920e+04</td>\n",
       "      <td>4574.583903</td>\n",
       "      <td>171.446874</td>\n",
       "    </tr>\n",
       "    <tr>\n",
       "      <th>min</th>\n",
       "      <td>0.000000e+00</td>\n",
       "      <td>0.000000</td>\n",
       "      <td>0.000000</td>\n",
       "    </tr>\n",
       "    <tr>\n",
       "      <th>25%</th>\n",
       "      <td>0.000000e+00</td>\n",
       "      <td>0.000000</td>\n",
       "      <td>0.000000</td>\n",
       "    </tr>\n",
       "    <tr>\n",
       "      <th>50%</th>\n",
       "      <td>7.000000e+00</td>\n",
       "      <td>2.000000</td>\n",
       "      <td>0.000000</td>\n",
       "    </tr>\n",
       "    <tr>\n",
       "      <th>75%</th>\n",
       "      <td>4.500000e+01</td>\n",
       "      <td>14.000000</td>\n",
       "      <td>18.000000</td>\n",
       "    </tr>\n",
       "    <tr>\n",
       "      <th>max</th>\n",
       "      <td>5.764420e+06</td>\n",
       "      <td>895978.000000</td>\n",
       "      <td>9821.000000</td>\n",
       "    </tr>\n",
       "  </tbody>\n",
       "</table>\n",
       "</div>"
      ],
      "text/plain": [
       "           positive       negative  achievements\n",
       "count  8.510300e+04   85103.000000  85103.000000\n",
       "mean   9.585609e+02     159.772570     19.859394\n",
       "std    2.435920e+04    4574.583903    171.446874\n",
       "min    0.000000e+00       0.000000      0.000000\n",
       "25%    0.000000e+00       0.000000      0.000000\n",
       "50%    7.000000e+00       2.000000      0.000000\n",
       "75%    4.500000e+01      14.000000     18.000000\n",
       "max    5.764420e+06  895978.000000   9821.000000"
      ]
     },
     "execution_count": 20,
     "metadata": {},
     "output_type": "execute_result"
    }
   ],
   "source": [
    "feedback_df.describe()"
   ]
  },
  {
   "cell_type": "markdown",
   "metadata": {},
   "source": [
    "Heatmap Correlation plot"
   ]
  },
  {
   "cell_type": "code",
   "execution_count": 21,
   "metadata": {},
   "outputs": [
    {
     "data": {
      "image/png": "[encoded data removed]",
      "text/plain": [
       "<Figure size 640x480 with 2 Axes>"
      ]
     },
     "metadata": {},
     "output_type": "display_data"
    }
   ],
   "source": [
    "# Assuming df is your DataFrame with columns positive, negative, and achievements\n",
    "correlation_matrix = feedback_df[['positive', 'negative', 'achievements']].corr()\n",
    "\n",
    "# Create a heatmap\n",
    "sns.heatmap(correlation_matrix, annot=True, cmap='coolwarm', vmin=-1, vmax=1)\n",
    "plt.title('Correlation Heatmap')\n",
    "plt.show()"
   ]
  },
  {
   "cell_type": "markdown",
   "metadata": {},
   "source": [
    "Calculate Pearson Correlation Coefficient and the P_Values"
   ]
  },
  {
   "cell_type": "code",
   "execution_count": 22,
   "metadata": {},
   "outputs": [
    {
     "name": "stdout",
     "output_type": "stream",
     "text": [
      "The Pearson Correlation Coefficient is: 0.013558498374483105\n",
      "The Pearson P_Value is: 7.638574431177216e-05\n"
     ]
    }
   ],
   "source": [
    "# Calculating Pearson Correlation coefficient and P_value\n",
    "correlation, p_value = pearsonr(feedback_df['positive'], feedback_df['achievements'])\n",
    "print(f'The Pearson Correlation Coefficient is: {correlation}')\n",
    "print(f'The Pearson P_Value is: {p_value}')"
   ]
  },
  {
   "cell_type": "markdown",
   "metadata": {},
   "source": [
    "Conduct Hypotesis testing"
   ]
  },
  {
   "cell_type": "code",
   "execution_count": 23,
   "metadata": {},
   "outputs": [
    {
     "name": "stdout",
     "output_type": "stream",
     "text": [
      "The null hypothesis is rejected. A noteworthy link exists.\n"
     ]
    }
   ],
   "source": [
    "# Check for statistical significance\n",
    "if p_value < 0.05:\n",
    "    print(\"The null hypothesis is rejected. A noteworthy link exists.\")\n",
    "else:\n",
    "    print(\"The null hypothesis is not successfully rejected. Not a big relationship.\")"
   ]
  },
  {
   "cell_type": "markdown",
   "metadata": {},
   "source": [
    "# 5. Playtime Patterns:\n",
    "- *Theory*: Games with longer median playtimes also have longer average playtimes.\n",
    "- *Analysis*: Comparison of average_playtime_forever and median_playtime_forever by correlation analysis."
   ]
  },
  {
   "cell_type": "code",
   "execution_count": 24,
   "metadata": {},
   "outputs": [
    {
     "data": {
      "text/html": [
       "<div>\n",
       "<style scoped>\n",
       "    .dataframe tbody tr th:only-of-type {\n",
       "        vertical-align: middle;\n",
       "    }\n",
       "\n",
       "    .dataframe tbody tr th {\n",
       "        vertical-align: top;\n",
       "    }\n",
       "\n",
       "    .dataframe thead th {\n",
       "        text-align: right;\n",
       "    }\n",
       "</style>\n",
       "<table border=\"1\" class=\"dataframe\">\n",
       "  <thead>\n",
       "    <tr style=\"text-align: right;\">\n",
       "      <th></th>\n",
       "      <th>appid</th>\n",
       "      <th>average_playtime_forever</th>\n",
       "      <th>median_playtime_forever</th>\n",
       "    </tr>\n",
       "  </thead>\n",
       "  <tbody>\n",
       "    <tr>\n",
       "      <th>0</th>\n",
       "      <td>10</td>\n",
       "      <td>10524.0</td>\n",
       "      <td>228.0</td>\n",
       "    </tr>\n",
       "    <tr>\n",
       "      <th>1</th>\n",
       "      <td>20</td>\n",
       "      <td>143.0</td>\n",
       "      <td>23.0</td>\n",
       "    </tr>\n",
       "    <tr>\n",
       "      <th>2</th>\n",
       "      <td>30</td>\n",
       "      <td>1397.0</td>\n",
       "      <td>27.0</td>\n",
       "    </tr>\n",
       "    <tr>\n",
       "      <th>3</th>\n",
       "      <td>40</td>\n",
       "      <td>945.0</td>\n",
       "      <td>10.0</td>\n",
       "    </tr>\n",
       "    <tr>\n",
       "      <th>4</th>\n",
       "      <td>50</td>\n",
       "      <td>214.0</td>\n",
       "      <td>66.0</td>\n",
       "    </tr>\n",
       "    <tr>\n",
       "      <th>...</th>\n",
       "      <td>...</td>\n",
       "      <td>...</td>\n",
       "      <td>...</td>\n",
       "    </tr>\n",
       "    <tr>\n",
       "      <th>85098</th>\n",
       "      <td>2760980</td>\n",
       "      <td>0.0</td>\n",
       "      <td>0.0</td>\n",
       "    </tr>\n",
       "    <tr>\n",
       "      <th>85099</th>\n",
       "      <td>2761170</td>\n",
       "      <td>0.0</td>\n",
       "      <td>0.0</td>\n",
       "    </tr>\n",
       "    <tr>\n",
       "      <th>85100</th>\n",
       "      <td>2763480</td>\n",
       "      <td>0.0</td>\n",
       "      <td>0.0</td>\n",
       "    </tr>\n",
       "    <tr>\n",
       "      <th>85101</th>\n",
       "      <td>2764930</td>\n",
       "      <td>0.0</td>\n",
       "      <td>0.0</td>\n",
       "    </tr>\n",
       "    <tr>\n",
       "      <th>85102</th>\n",
       "      <td>2765800</td>\n",
       "      <td>0.0</td>\n",
       "      <td>0.0</td>\n",
       "    </tr>\n",
       "  </tbody>\n",
       "</table>\n",
       "<p>85103 rows × 3 columns</p>\n",
       "</div>"
      ],
      "text/plain": [
       "         appid  average_playtime_forever  median_playtime_forever\n",
       "0           10                   10524.0                    228.0\n",
       "1           20                     143.0                     23.0\n",
       "2           30                    1397.0                     27.0\n",
       "3           40                     945.0                     10.0\n",
       "4           50                     214.0                     66.0\n",
       "...        ...                       ...                      ...\n",
       "85098  2760980                       0.0                      0.0\n",
       "85099  2761170                       0.0                      0.0\n",
       "85100  2763480                       0.0                      0.0\n",
       "85101  2764930                       0.0                      0.0\n",
       "85102  2765800                       0.0                      0.0\n",
       "\n",
       "[85103 rows x 3 columns]"
      ]
     },
     "execution_count": 24,
     "metadata": {},
     "output_type": "execute_result"
    }
   ],
   "source": [
    "with engine.connect() as connection:\n",
    "    # Query to extract relevant columns from df_final_demo\n",
    "    txt = '''SELECT\n",
    "                appid,\n",
    "                average_playtime_forever,\n",
    "                median_playtime_forever\n",
    "            FROM\n",
    "                playtime;'''\n",
    "    query = text(txt)\n",
    "    result = connection.execute(query)\n",
    "    playtime_df = pd.DataFrame(result.all())\n",
    "\n",
    "playtime_df"
   ]
  },
  {
   "cell_type": "markdown",
   "metadata": {},
   "source": [
    "Formulate Hypotheses:\n",
    "- *Null Hypothesis*: The average playtime and median playtime do not significantly correlate.\n",
    "- *Alternative Hypothesis*: Games with longer median playtimes also have longer average playtimes over time."
   ]
  },
  {
   "cell_type": "code",
   "execution_count": 25,
   "metadata": {},
   "outputs": [
    {
     "data": {
      "text/html": [
       "<div>\n",
       "<style scoped>\n",
       "    .dataframe tbody tr th:only-of-type {\n",
       "        vertical-align: middle;\n",
       "    }\n",
       "\n",
       "    .dataframe tbody tr th {\n",
       "        vertical-align: top;\n",
       "    }\n",
       "\n",
       "    .dataframe thead th {\n",
       "        text-align: right;\n",
       "    }\n",
       "</style>\n",
       "<table border=\"1\" class=\"dataframe\">\n",
       "  <thead>\n",
       "    <tr style=\"text-align: right;\">\n",
       "      <th></th>\n",
       "      <th>appid</th>\n",
       "      <th>average_playtime_forever</th>\n",
       "      <th>median_playtime_forever</th>\n",
       "    </tr>\n",
       "  </thead>\n",
       "  <tbody>\n",
       "    <tr>\n",
       "      <th>count</th>\n",
       "      <td>8.510300e+04</td>\n",
       "      <td>85103.000000</td>\n",
       "      <td>85103.000000</td>\n",
       "    </tr>\n",
       "    <tr>\n",
       "      <th>mean</th>\n",
       "      <td>1.355681e+06</td>\n",
       "      <td>104.729681</td>\n",
       "      <td>93.316029</td>\n",
       "    </tr>\n",
       "    <tr>\n",
       "      <th>std</th>\n",
       "      <td>6.949952e+05</td>\n",
       "      <td>1142.447517</td>\n",
       "      <td>1510.732101</td>\n",
       "    </tr>\n",
       "    <tr>\n",
       "      <th>min</th>\n",
       "      <td>1.000000e+01</td>\n",
       "      <td>0.000000</td>\n",
       "      <td>0.000000</td>\n",
       "    </tr>\n",
       "    <tr>\n",
       "      <th>25%</th>\n",
       "      <td>7.723900e+05</td>\n",
       "      <td>0.000000</td>\n",
       "      <td>0.000000</td>\n",
       "    </tr>\n",
       "    <tr>\n",
       "      <th>50%</th>\n",
       "      <td>1.331540e+06</td>\n",
       "      <td>0.000000</td>\n",
       "      <td>0.000000</td>\n",
       "    </tr>\n",
       "    <tr>\n",
       "      <th>75%</th>\n",
       "      <td>1.918415e+06</td>\n",
       "      <td>0.000000</td>\n",
       "      <td>0.000000</td>\n",
       "    </tr>\n",
       "    <tr>\n",
       "      <th>max</th>\n",
       "      <td>2.765800e+06</td>\n",
       "      <td>145727.000000</td>\n",
       "      <td>208473.000000</td>\n",
       "    </tr>\n",
       "  </tbody>\n",
       "</table>\n",
       "</div>"
      ],
      "text/plain": [
       "              appid  average_playtime_forever  median_playtime_forever\n",
       "count  8.510300e+04              85103.000000             85103.000000\n",
       "mean   1.355681e+06                104.729681                93.316029\n",
       "std    6.949952e+05               1142.447517              1510.732101\n",
       "min    1.000000e+01                  0.000000                 0.000000\n",
       "25%    7.723900e+05                  0.000000                 0.000000\n",
       "50%    1.331540e+06                  0.000000                 0.000000\n",
       "75%    1.918415e+06                  0.000000                 0.000000\n",
       "max    2.765800e+06             145727.000000            208473.000000"
      ]
     },
     "execution_count": 25,
     "metadata": {},
     "output_type": "execute_result"
    }
   ],
   "source": [
    "playtime_df.describe()"
   ]
  },
  {
   "cell_type": "markdown",
   "metadata": {},
   "source": [
    "Calculate Pearson Correlation Coefficient and the P_Values"
   ]
  },
  {
   "cell_type": "code",
   "execution_count": 26,
   "metadata": {},
   "outputs": [
    {
     "name": "stdout",
     "output_type": "stream",
     "text": [
      "The Pearson Correlation Coefficient is: 0.884408436115071\n",
      "The Pearson P_Value is: 0.0\n"
     ]
    }
   ],
   "source": [
    "# Perform Pearson correlation test and P_value\n",
    "correlation, p_value = pearsonr(playtime_df['average_playtime_forever'], playtime_df['median_playtime_forever'])\n",
    "print(f'The Pearson Correlation Coefficient is: {correlation}')\n",
    "print(f'The Pearson P_Value is: {p_value}')"
   ]
  },
  {
   "cell_type": "markdown",
   "metadata": {},
   "source": [
    "Conduct Hypotesis testing"
   ]
  },
  {
   "cell_type": "code",
   "execution_count": 27,
   "metadata": {},
   "outputs": [
    {
     "name": "stdout",
     "output_type": "stream",
     "text": [
      "Dismiss the null hypothesis. A noteworthy link exists.\n"
     ]
    }
   ],
   "source": [
    "# Check for statistical significance\n",
    "if p_value < 0.05:\n",
    "    print(\"Dismiss the null hypothesis. A noteworthy link exists.\")\n",
    "else:\n",
    "    print(\"Reject the null hypothesis ineffectively. Not a big relationship.\")"
   ]
  },
  {
   "cell_type": "markdown",
   "metadata": {},
   "source": [
    "# 6. Price Influence\n",
    "- *Theory*: User scores for games are typically higher when they are more expensive.\n",
    "- *Analysis*: Examine average user scores for various price ranges of games."
   ]
  },
  {
   "cell_type": "code",
   "execution_count": 28,
   "metadata": {},
   "outputs": [
    {
     "data": {
      "text/html": [
       "<div>\n",
       "<style scoped>\n",
       "    .dataframe tbody tr th:only-of-type {\n",
       "        vertical-align: middle;\n",
       "    }\n",
       "\n",
       "    .dataframe tbody tr th {\n",
       "        vertical-align: top;\n",
       "    }\n",
       "\n",
       "    .dataframe thead th {\n",
       "        text-align: right;\n",
       "    }\n",
       "</style>\n",
       "<table border=\"1\" class=\"dataframe\">\n",
       "  <thead>\n",
       "    <tr style=\"text-align: right;\">\n",
       "      <th></th>\n",
       "      <th>appid</th>\n",
       "      <th>name</th>\n",
       "      <th>price</th>\n",
       "      <th>user_score</th>\n",
       "    </tr>\n",
       "  </thead>\n",
       "  <tbody>\n",
       "    <tr>\n",
       "      <th>0</th>\n",
       "      <td>10</td>\n",
       "      <td>Counter-Strike</td>\n",
       "      <td>9.99</td>\n",
       "      <td>0.0</td>\n",
       "    </tr>\n",
       "    <tr>\n",
       "      <th>1</th>\n",
       "      <td>20</td>\n",
       "      <td>Team Fortress Classic</td>\n",
       "      <td>4.99</td>\n",
       "      <td>0.0</td>\n",
       "    </tr>\n",
       "    <tr>\n",
       "      <th>2</th>\n",
       "      <td>30</td>\n",
       "      <td>Day of Defeat</td>\n",
       "      <td>4.99</td>\n",
       "      <td>0.0</td>\n",
       "    </tr>\n",
       "    <tr>\n",
       "      <th>3</th>\n",
       "      <td>40</td>\n",
       "      <td>Deathmatch Classic</td>\n",
       "      <td>4.99</td>\n",
       "      <td>0.0</td>\n",
       "    </tr>\n",
       "    <tr>\n",
       "      <th>4</th>\n",
       "      <td>50</td>\n",
       "      <td>Half-Life: Opposing Force</td>\n",
       "      <td>4.99</td>\n",
       "      <td>0.0</td>\n",
       "    </tr>\n",
       "    <tr>\n",
       "      <th>...</th>\n",
       "      <td>...</td>\n",
       "      <td>...</td>\n",
       "      <td>...</td>\n",
       "      <td>...</td>\n",
       "    </tr>\n",
       "    <tr>\n",
       "      <th>85098</th>\n",
       "      <td>2760980</td>\n",
       "      <td>Z Ops: Campus Playtest</td>\n",
       "      <td>0.00</td>\n",
       "      <td>0.0</td>\n",
       "    </tr>\n",
       "    <tr>\n",
       "      <th>85099</th>\n",
       "      <td>2761170</td>\n",
       "      <td>Stay Playtest</td>\n",
       "      <td>0.00</td>\n",
       "      <td>0.0</td>\n",
       "    </tr>\n",
       "    <tr>\n",
       "      <th>85100</th>\n",
       "      <td>2763480</td>\n",
       "      <td>生物召唤：对决时刻 Playtest</td>\n",
       "      <td>0.00</td>\n",
       "      <td>0.0</td>\n",
       "    </tr>\n",
       "    <tr>\n",
       "      <th>85101</th>\n",
       "      <td>2764930</td>\n",
       "      <td>Cryptis Playtest</td>\n",
       "      <td>0.00</td>\n",
       "      <td>0.0</td>\n",
       "    </tr>\n",
       "    <tr>\n",
       "      <th>85102</th>\n",
       "      <td>2765800</td>\n",
       "      <td>Scorching Engines Playtest</td>\n",
       "      <td>0.00</td>\n",
       "      <td>0.0</td>\n",
       "    </tr>\n",
       "  </tbody>\n",
       "</table>\n",
       "<p>85103 rows × 4 columns</p>\n",
       "</div>"
      ],
      "text/plain": [
       "         appid                        name  price  user_score\n",
       "0           10              Counter-Strike   9.99         0.0\n",
       "1           20       Team Fortress Classic   4.99         0.0\n",
       "2           30               Day of Defeat   4.99         0.0\n",
       "3           40          Deathmatch Classic   4.99         0.0\n",
       "4           50   Half-Life: Opposing Force   4.99         0.0\n",
       "...        ...                         ...    ...         ...\n",
       "85098  2760980      Z Ops: Campus Playtest   0.00         0.0\n",
       "85099  2761170               Stay Playtest   0.00         0.0\n",
       "85100  2763480          生物召唤：对决时刻 Playtest   0.00         0.0\n",
       "85101  2764930            Cryptis Playtest   0.00         0.0\n",
       "85102  2765800  Scorching Engines Playtest   0.00         0.0\n",
       "\n",
       "[85103 rows x 4 columns]"
      ]
     },
     "execution_count": 28,
     "metadata": {},
     "output_type": "execute_result"
    }
   ],
   "source": [
    "with engine.connect() as connection:\n",
    "    # Query to extract relevant columns from df_final_demo\n",
    "    txt = '''SELECT \n",
    "                game.appid, \n",
    "                game.name, \n",
    "                game.price, \n",
    "                user_feedback.user_score\n",
    "            FROM game\n",
    "            JOIN user_feedback ON game.appid = user_feedback.appid;'''\n",
    "    query = text(txt)\n",
    "    result = connection.execute(query)\n",
    "    price_df = pd.DataFrame(result.all())\n",
    "\n",
    "price_df"
   ]
  },
  {
   "cell_type": "markdown",
   "metadata": {},
   "source": [
    "Formulate Hypotheses:\n",
    "- *Null Hypothesis*: User scores and game pricing do not significantly correlate.\n",
    "- *Alternative Hypothesis*: User scores significantly positively correlate with games that cost more money."
   ]
  },
  {
   "cell_type": "code",
   "execution_count": 29,
   "metadata": {},
   "outputs": [
    {
     "data": {
      "text/html": [
       "<div>\n",
       "<style scoped>\n",
       "    .dataframe tbody tr th:only-of-type {\n",
       "        vertical-align: middle;\n",
       "    }\n",
       "\n",
       "    .dataframe tbody tr th {\n",
       "        vertical-align: top;\n",
       "    }\n",
       "\n",
       "    .dataframe thead th {\n",
       "        text-align: right;\n",
       "    }\n",
       "</style>\n",
       "<table border=\"1\" class=\"dataframe\">\n",
       "  <thead>\n",
       "    <tr style=\"text-align: right;\">\n",
       "      <th></th>\n",
       "      <th>appid</th>\n",
       "      <th>price</th>\n",
       "      <th>user_score</th>\n",
       "    </tr>\n",
       "  </thead>\n",
       "  <tbody>\n",
       "    <tr>\n",
       "      <th>count</th>\n",
       "      <td>8.510300e+04</td>\n",
       "      <td>85103.000000</td>\n",
       "      <td>85103.000000</td>\n",
       "    </tr>\n",
       "    <tr>\n",
       "      <th>mean</th>\n",
       "      <td>1.355681e+06</td>\n",
       "      <td>7.193703</td>\n",
       "      <td>0.039822</td>\n",
       "    </tr>\n",
       "    <tr>\n",
       "      <th>std</th>\n",
       "      <td>6.949952e+05</td>\n",
       "      <td>12.362478</td>\n",
       "      <td>1.791013</td>\n",
       "    </tr>\n",
       "    <tr>\n",
       "      <th>min</th>\n",
       "      <td>1.000000e+01</td>\n",
       "      <td>0.000000</td>\n",
       "      <td>0.000000</td>\n",
       "    </tr>\n",
       "    <tr>\n",
       "      <th>25%</th>\n",
       "      <td>7.723900e+05</td>\n",
       "      <td>0.990000</td>\n",
       "      <td>0.000000</td>\n",
       "    </tr>\n",
       "    <tr>\n",
       "      <th>50%</th>\n",
       "      <td>1.331540e+06</td>\n",
       "      <td>4.490000</td>\n",
       "      <td>0.000000</td>\n",
       "    </tr>\n",
       "    <tr>\n",
       "      <th>75%</th>\n",
       "      <td>1.918415e+06</td>\n",
       "      <td>9.990000</td>\n",
       "      <td>0.000000</td>\n",
       "    </tr>\n",
       "    <tr>\n",
       "      <th>max</th>\n",
       "      <td>2.765800e+06</td>\n",
       "      <td>999.980000</td>\n",
       "      <td>100.000000</td>\n",
       "    </tr>\n",
       "  </tbody>\n",
       "</table>\n",
       "</div>"
      ],
      "text/plain": [
       "              appid         price    user_score\n",
       "count  8.510300e+04  85103.000000  85103.000000\n",
       "mean   1.355681e+06      7.193703      0.039822\n",
       "std    6.949952e+05     12.362478      1.791013\n",
       "min    1.000000e+01      0.000000      0.000000\n",
       "25%    7.723900e+05      0.990000      0.000000\n",
       "50%    1.331540e+06      4.490000      0.000000\n",
       "75%    1.918415e+06      9.990000      0.000000\n",
       "max    2.765800e+06    999.980000    100.000000"
      ]
     },
     "execution_count": 29,
     "metadata": {},
     "output_type": "execute_result"
    }
   ],
   "source": [
    "price_df.describe()"
   ]
  },
  {
   "cell_type": "markdown",
   "metadata": {},
   "source": [
    "Scatter Plot data"
   ]
  },
  {
   "cell_type": "code",
   "execution_count": 30,
   "metadata": {},
   "outputs": [
    {
     "data": {
      "image/png": "[encoded data removed]",
      "text/plain": [
       "<Figure size 640x480 with 1 Axes>"
      ]
     },
     "metadata": {},
     "output_type": "display_data"
    }
   ],
   "source": [
    "plt.scatter(price_df['price'], price_df['user_score'], alpha=0.5)\n",
    "plt.title('Scatter Plot of Price vs. User Score')\n",
    "plt.xlabel('Price')\n",
    "plt.ylabel('User Score')\n",
    "plt.grid(True)\n",
    "plt.show()"
   ]
  },
  {
   "cell_type": "markdown",
   "metadata": {},
   "source": [
    "Calculate Pearson Correlation Coefficient and the P_Values"
   ]
  },
  {
   "cell_type": "code",
   "execution_count": 31,
   "metadata": {},
   "outputs": [
    {
     "name": "stdout",
     "output_type": "stream",
     "text": [
      "The Pearson Correlation Coefficient is: -0.0007179361774126487\n",
      "The Pearson P_Value is: 0.8341076602426521\n"
     ]
    }
   ],
   "source": [
    "# Calculate the correlation coefficient and p-value\n",
    "correlation, p_value = pearsonr(price_df['price'], price_df['user_score'])\n",
    "print(f'The Pearson Correlation Coefficient is: {correlation}')\n",
    "print(f'The Pearson P_Value is: {p_value}')"
   ]
  },
  {
   "cell_type": "markdown",
   "metadata": {},
   "source": [
    "Conduct Hypotesis testing"
   ]
  },
  {
   "cell_type": "code",
   "execution_count": 32,
   "metadata": {},
   "outputs": [
    {
     "name": "stdout",
     "output_type": "stream",
     "text": [
      "The null hypothesis is not successfully rejected. Not a very strong link.\n"
     ]
    }
   ],
   "source": [
    "# Check for statistical significance\n",
    "if p_value < 0.05:\n",
    "    print(\"The null hypothesis is rejected. A notable association exists.\")\n",
    "else:\n",
    "    print(\"The null hypothesis is not successfully rejected. Not a very strong link.\")"
   ]
  },
  {
   "cell_type": "markdown",
   "metadata": {},
   "source": [
    "# 7. Categorization Impact on Popularity:\n",
    "- *Theory*: Owner estimates of games tend to be higher for those with more categories and genres.\n",
    "- *Analysis*: Look at the connection between estimated owners and the number of categories/genres."
   ]
  },
  {
   "cell_type": "code",
   "execution_count": 33,
   "metadata": {},
   "outputs": [
    {
     "data": {
      "text/html": [
       "<div>\n",
       "<style scoped>\n",
       "    .dataframe tbody tr th:only-of-type {\n",
       "        vertical-align: middle;\n",
       "    }\n",
       "\n",
       "    .dataframe tbody tr th {\n",
       "        vertical-align: top;\n",
       "    }\n",
       "\n",
       "    .dataframe thead th {\n",
       "        text-align: right;\n",
       "    }\n",
       "</style>\n",
       "<table border=\"1\" class=\"dataframe\">\n",
       "  <thead>\n",
       "    <tr style=\"text-align: right;\">\n",
       "      <th></th>\n",
       "      <th>appid</th>\n",
       "      <th>estimated_owners</th>\n",
       "      <th>categories</th>\n",
       "      <th>genres</th>\n",
       "    </tr>\n",
       "  </thead>\n",
       "  <tbody>\n",
       "    <tr>\n",
       "      <th>0</th>\n",
       "      <td>10</td>\n",
       "      <td>15000000.0</td>\n",
       "      <td>Multi-player,PvP,Online PvP,Shared/Split Scree...</td>\n",
       "      <td>Action</td>\n",
       "    </tr>\n",
       "    <tr>\n",
       "      <th>1</th>\n",
       "      <td>20</td>\n",
       "      <td>7500000.0</td>\n",
       "      <td>Multi-player,PvP,Online PvP,Shared/Split Scree...</td>\n",
       "      <td>Action</td>\n",
       "    </tr>\n",
       "    <tr>\n",
       "      <th>2</th>\n",
       "      <td>30</td>\n",
       "      <td>7500000.0</td>\n",
       "      <td>Multi-player,Valve Anti-Cheat enabled</td>\n",
       "      <td>Action</td>\n",
       "    </tr>\n",
       "    <tr>\n",
       "      <th>3</th>\n",
       "      <td>40</td>\n",
       "      <td>7500000.0</td>\n",
       "      <td>Multi-player,PvP,Online PvP,Shared/Split Scree...</td>\n",
       "      <td>Action</td>\n",
       "    </tr>\n",
       "    <tr>\n",
       "      <th>4</th>\n",
       "      <td>50</td>\n",
       "      <td>7500000.0</td>\n",
       "      <td>Single-player,Multi-player,Valve Anti-Cheat en...</td>\n",
       "      <td>Action</td>\n",
       "    </tr>\n",
       "    <tr>\n",
       "      <th>...</th>\n",
       "      <td>...</td>\n",
       "      <td>...</td>\n",
       "      <td>...</td>\n",
       "      <td>...</td>\n",
       "    </tr>\n",
       "    <tr>\n",
       "      <th>85098</th>\n",
       "      <td>2760980</td>\n",
       "      <td>0.0</td>\n",
       "      <td>unknown</td>\n",
       "      <td>unknown</td>\n",
       "    </tr>\n",
       "    <tr>\n",
       "      <th>85099</th>\n",
       "      <td>2761170</td>\n",
       "      <td>0.0</td>\n",
       "      <td>unknown</td>\n",
       "      <td>unknown</td>\n",
       "    </tr>\n",
       "    <tr>\n",
       "      <th>85100</th>\n",
       "      <td>2763480</td>\n",
       "      <td>0.0</td>\n",
       "      <td>unknown</td>\n",
       "      <td>unknown</td>\n",
       "    </tr>\n",
       "    <tr>\n",
       "      <th>85101</th>\n",
       "      <td>2764930</td>\n",
       "      <td>0.0</td>\n",
       "      <td>unknown</td>\n",
       "      <td>unknown</td>\n",
       "    </tr>\n",
       "    <tr>\n",
       "      <th>85102</th>\n",
       "      <td>2765800</td>\n",
       "      <td>0.0</td>\n",
       "      <td>unknown</td>\n",
       "      <td>unknown</td>\n",
       "    </tr>\n",
       "  </tbody>\n",
       "</table>\n",
       "<p>85103 rows × 4 columns</p>\n",
       "</div>"
      ],
      "text/plain": [
       "         appid  estimated_owners  \\\n",
       "0           10        15000000.0   \n",
       "1           20         7500000.0   \n",
       "2           30         7500000.0   \n",
       "3           40         7500000.0   \n",
       "4           50         7500000.0   \n",
       "...        ...               ...   \n",
       "85098  2760980               0.0   \n",
       "85099  2761170               0.0   \n",
       "85100  2763480               0.0   \n",
       "85101  2764930               0.0   \n",
       "85102  2765800               0.0   \n",
       "\n",
       "                                              categories   genres  \n",
       "0      Multi-player,PvP,Online PvP,Shared/Split Scree...   Action  \n",
       "1      Multi-player,PvP,Online PvP,Shared/Split Scree...   Action  \n",
       "2                  Multi-player,Valve Anti-Cheat enabled   Action  \n",
       "3      Multi-player,PvP,Online PvP,Shared/Split Scree...   Action  \n",
       "4      Single-player,Multi-player,Valve Anti-Cheat en...   Action  \n",
       "...                                                  ...      ...  \n",
       "85098                                            unknown  unknown  \n",
       "85099                                            unknown  unknown  \n",
       "85100                                            unknown  unknown  \n",
       "85101                                            unknown  unknown  \n",
       "85102                                            unknown  unknown  \n",
       "\n",
       "[85103 rows x 4 columns]"
      ]
     },
     "execution_count": 33,
     "metadata": {},
     "output_type": "execute_result"
    }
   ],
   "source": [
    "with engine.connect() as connection:\n",
    "    # Query to extract relevant columns from df_final_demo\n",
    "    txt = '''SELECT \n",
    "                game.appid, \n",
    "                game.estimated_owners, \n",
    "                categorization.categories, \n",
    "                categorization.genres\n",
    "            FROM game\n",
    "            JOIN categorization ON game.appid = categorization.appid;'''\n",
    "    query = text(txt)\n",
    "    result = connection.execute(query)\n",
    "    category_df = pd.DataFrame(result.all())\n",
    "\n",
    "category_df"
   ]
  },
  {
   "cell_type": "markdown",
   "metadata": {},
   "source": [
    "Formulate Hypotheses:\n",
    "- *Null Hypothesis*: The number of categories/genres and estimated owners do not significantly correlate.\n",
    "- *Alternative Hypothesis*: The estimated owners of games tend to be higher when there are more categories and genres."
   ]
  },
  {
   "cell_type": "code",
   "execution_count": 34,
   "metadata": {},
   "outputs": [
    {
     "data": {
      "text/html": [
       "<div>\n",
       "<style scoped>\n",
       "    .dataframe tbody tr th:only-of-type {\n",
       "        vertical-align: middle;\n",
       "    }\n",
       "\n",
       "    .dataframe tbody tr th {\n",
       "        vertical-align: top;\n",
       "    }\n",
       "\n",
       "    .dataframe thead th {\n",
       "        text-align: right;\n",
       "    }\n",
       "</style>\n",
       "<table border=\"1\" class=\"dataframe\">\n",
       "  <thead>\n",
       "    <tr style=\"text-align: right;\">\n",
       "      <th></th>\n",
       "      <th>appid</th>\n",
       "      <th>estimated_owners</th>\n",
       "    </tr>\n",
       "  </thead>\n",
       "  <tbody>\n",
       "    <tr>\n",
       "      <th>count</th>\n",
       "      <td>8.510300e+04</td>\n",
       "      <td>8.510300e+04</td>\n",
       "    </tr>\n",
       "    <tr>\n",
       "      <th>mean</th>\n",
       "      <td>1.355681e+06</td>\n",
       "      <td>8.589215e+04</td>\n",
       "    </tr>\n",
       "    <tr>\n",
       "      <th>std</th>\n",
       "      <td>6.949952e+05</td>\n",
       "      <td>1.027754e+06</td>\n",
       "    </tr>\n",
       "    <tr>\n",
       "      <th>min</th>\n",
       "      <td>1.000000e+01</td>\n",
       "      <td>0.000000e+00</td>\n",
       "    </tr>\n",
       "    <tr>\n",
       "      <th>25%</th>\n",
       "      <td>7.723900e+05</td>\n",
       "      <td>1.000000e+04</td>\n",
       "    </tr>\n",
       "    <tr>\n",
       "      <th>50%</th>\n",
       "      <td>1.331540e+06</td>\n",
       "      <td>1.000000e+04</td>\n",
       "    </tr>\n",
       "    <tr>\n",
       "      <th>75%</th>\n",
       "      <td>1.918415e+06</td>\n",
       "      <td>1.000000e+04</td>\n",
       "    </tr>\n",
       "    <tr>\n",
       "      <th>max</th>\n",
       "      <td>2.765800e+06</td>\n",
       "      <td>1.500000e+08</td>\n",
       "    </tr>\n",
       "  </tbody>\n",
       "</table>\n",
       "</div>"
      ],
      "text/plain": [
       "              appid  estimated_owners\n",
       "count  8.510300e+04      8.510300e+04\n",
       "mean   1.355681e+06      8.589215e+04\n",
       "std    6.949952e+05      1.027754e+06\n",
       "min    1.000000e+01      0.000000e+00\n",
       "25%    7.723900e+05      1.000000e+04\n",
       "50%    1.331540e+06      1.000000e+04\n",
       "75%    1.918415e+06      1.000000e+04\n",
       "max    2.765800e+06      1.500000e+08"
      ]
     },
     "execution_count": 34,
     "metadata": {},
     "output_type": "execute_result"
    }
   ],
   "source": [
    "category_df.describe()"
   ]
  },
  {
   "cell_type": "markdown",
   "metadata": {},
   "source": [
    "Function to count the number of genres"
   ]
  },
  {
   "cell_type": "code",
   "execution_count": 35,
   "metadata": {},
   "outputs": [],
   "source": [
    "# Create a function to count the number of categories and genres\n",
    "def count_categories_genres(row):\n",
    "    # Split the 'categories' and 'genres' strings into lists\n",
    "    categories_list = row['categories'].split(',') if not pd.isnull(row['categories']) else []\n",
    "    genres_list = row['genres'].split(',') if not pd.isnull(row['genres']) else []\n",
    "    \n",
    "    # Count the number of unique categories and genres\n",
    "    num_categories = len(set(categories_list))\n",
    "    num_genres = len(set(genres_list))\n",
    "    \n",
    "    # Return the total count\n",
    "    return num_categories + num_genres"
   ]
  },
  {
   "cell_type": "markdown",
   "metadata": {},
   "source": [
    "Add a new column to the dataset"
   ]
  },
  {
   "cell_type": "code",
   "execution_count": 36,
   "metadata": {},
   "outputs": [
    {
     "data": {
      "text/html": [
       "<div>\n",
       "<style scoped>\n",
       "    .dataframe tbody tr th:only-of-type {\n",
       "        vertical-align: middle;\n",
       "    }\n",
       "\n",
       "    .dataframe tbody tr th {\n",
       "        vertical-align: top;\n",
       "    }\n",
       "\n",
       "    .dataframe thead th {\n",
       "        text-align: right;\n",
       "    }\n",
       "</style>\n",
       "<table border=\"1\" class=\"dataframe\">\n",
       "  <thead>\n",
       "    <tr style=\"text-align: right;\">\n",
       "      <th></th>\n",
       "      <th>appid</th>\n",
       "      <th>estimated_owners</th>\n",
       "      <th>categories</th>\n",
       "      <th>genres</th>\n",
       "      <th>num_categories_genres</th>\n",
       "    </tr>\n",
       "  </thead>\n",
       "  <tbody>\n",
       "    <tr>\n",
       "      <th>0</th>\n",
       "      <td>10</td>\n",
       "      <td>15000000.0</td>\n",
       "      <td>Multi-player,PvP,Online PvP,Shared/Split Scree...</td>\n",
       "      <td>Action</td>\n",
       "      <td>6</td>\n",
       "    </tr>\n",
       "    <tr>\n",
       "      <th>1</th>\n",
       "      <td>20</td>\n",
       "      <td>7500000.0</td>\n",
       "      <td>Multi-player,PvP,Online PvP,Shared/Split Scree...</td>\n",
       "      <td>Action</td>\n",
       "      <td>7</td>\n",
       "    </tr>\n",
       "    <tr>\n",
       "      <th>2</th>\n",
       "      <td>30</td>\n",
       "      <td>7500000.0</td>\n",
       "      <td>Multi-player,Valve Anti-Cheat enabled</td>\n",
       "      <td>Action</td>\n",
       "      <td>3</td>\n",
       "    </tr>\n",
       "    <tr>\n",
       "      <th>3</th>\n",
       "      <td>40</td>\n",
       "      <td>7500000.0</td>\n",
       "      <td>Multi-player,PvP,Online PvP,Shared/Split Scree...</td>\n",
       "      <td>Action</td>\n",
       "      <td>7</td>\n",
       "    </tr>\n",
       "    <tr>\n",
       "      <th>4</th>\n",
       "      <td>50</td>\n",
       "      <td>7500000.0</td>\n",
       "      <td>Single-player,Multi-player,Valve Anti-Cheat en...</td>\n",
       "      <td>Action</td>\n",
       "      <td>5</td>\n",
       "    </tr>\n",
       "    <tr>\n",
       "      <th>...</th>\n",
       "      <td>...</td>\n",
       "      <td>...</td>\n",
       "      <td>...</td>\n",
       "      <td>...</td>\n",
       "      <td>...</td>\n",
       "    </tr>\n",
       "    <tr>\n",
       "      <th>85098</th>\n",
       "      <td>2760980</td>\n",
       "      <td>0.0</td>\n",
       "      <td>unknown</td>\n",
       "      <td>unknown</td>\n",
       "      <td>2</td>\n",
       "    </tr>\n",
       "    <tr>\n",
       "      <th>85099</th>\n",
       "      <td>2761170</td>\n",
       "      <td>0.0</td>\n",
       "      <td>unknown</td>\n",
       "      <td>unknown</td>\n",
       "      <td>2</td>\n",
       "    </tr>\n",
       "    <tr>\n",
       "      <th>85100</th>\n",
       "      <td>2763480</td>\n",
       "      <td>0.0</td>\n",
       "      <td>unknown</td>\n",
       "      <td>unknown</td>\n",
       "      <td>2</td>\n",
       "    </tr>\n",
       "    <tr>\n",
       "      <th>85101</th>\n",
       "      <td>2764930</td>\n",
       "      <td>0.0</td>\n",
       "      <td>unknown</td>\n",
       "      <td>unknown</td>\n",
       "      <td>2</td>\n",
       "    </tr>\n",
       "    <tr>\n",
       "      <th>85102</th>\n",
       "      <td>2765800</td>\n",
       "      <td>0.0</td>\n",
       "      <td>unknown</td>\n",
       "      <td>unknown</td>\n",
       "      <td>2</td>\n",
       "    </tr>\n",
       "  </tbody>\n",
       "</table>\n",
       "<p>85103 rows × 5 columns</p>\n",
       "</div>"
      ],
      "text/plain": [
       "         appid  estimated_owners  \\\n",
       "0           10        15000000.0   \n",
       "1           20         7500000.0   \n",
       "2           30         7500000.0   \n",
       "3           40         7500000.0   \n",
       "4           50         7500000.0   \n",
       "...        ...               ...   \n",
       "85098  2760980               0.0   \n",
       "85099  2761170               0.0   \n",
       "85100  2763480               0.0   \n",
       "85101  2764930               0.0   \n",
       "85102  2765800               0.0   \n",
       "\n",
       "                                              categories   genres  \\\n",
       "0      Multi-player,PvP,Online PvP,Shared/Split Scree...   Action   \n",
       "1      Multi-player,PvP,Online PvP,Shared/Split Scree...   Action   \n",
       "2                  Multi-player,Valve Anti-Cheat enabled   Action   \n",
       "3      Multi-player,PvP,Online PvP,Shared/Split Scree...   Action   \n",
       "4      Single-player,Multi-player,Valve Anti-Cheat en...   Action   \n",
       "...                                                  ...      ...   \n",
       "85098                                            unknown  unknown   \n",
       "85099                                            unknown  unknown   \n",
       "85100                                            unknown  unknown   \n",
       "85101                                            unknown  unknown   \n",
       "85102                                            unknown  unknown   \n",
       "\n",
       "       num_categories_genres  \n",
       "0                          6  \n",
       "1                          7  \n",
       "2                          3  \n",
       "3                          7  \n",
       "4                          5  \n",
       "...                      ...  \n",
       "85098                      2  \n",
       "85099                      2  \n",
       "85100                      2  \n",
       "85101                      2  \n",
       "85102                      2  \n",
       "\n",
       "[85103 rows x 5 columns]"
      ]
     },
     "execution_count": 36,
     "metadata": {},
     "output_type": "execute_result"
    }
   ],
   "source": [
    "# Apply the function to create the new column\n",
    "category_df['num_categories_genres'] = category_df.apply(count_categories_genres, axis=1)\n",
    "category_df"
   ]
  },
  {
   "cell_type": "markdown",
   "metadata": {},
   "source": [
    "Scatter Plot data"
   ]
  },
  {
   "cell_type": "code",
   "execution_count": 37,
   "metadata": {},
   "outputs": [
    {
     "data": {
      "image/png": "[encoded data removed]",
      "text/plain": [
       "<Figure size 640x480 with 1 Axes>"
      ]
     },
     "metadata": {},
     "output_type": "display_data"
    }
   ],
   "source": [
    "# Scatter plot\n",
    "plt.scatter(category_df['num_categories_genres'], category_df['estimated_owners'], alpha=0.5)\n",
    "plt.title('Scatter Plot of Categories/Genres vs Estimated Owners')\n",
    "plt.xlabel('Number of Categories/Genres')\n",
    "plt.ylabel('Estimated Owners')\n",
    "plt.show()"
   ]
  },
  {
   "cell_type": "markdown",
   "metadata": {},
   "source": [
    "Calculate Pearson Correlation Coefficient and the P_Values"
   ]
  },
  {
   "cell_type": "code",
   "execution_count": 38,
   "metadata": {},
   "outputs": [
    {
     "name": "stdout",
     "output_type": "stream",
     "text": [
      "The Pearson Correlation Coefficient is: 0.10165017475238634\n",
      "The Pearson P_Value is: 3.107292346631183e-194\n"
     ]
    }
   ],
   "source": [
    "# Calculate the Correlation Coefficient and the P_Values\n",
    "correlation, p_value = pearsonr(category_df['num_categories_genres'], category_df['estimated_owners'])\n",
    "print(f'The Pearson Correlation Coefficient is: {correlation}')\n",
    "print(f'The Pearson P_Value is: {p_value}')"
   ]
  },
  {
   "cell_type": "markdown",
   "metadata": {},
   "source": [
    "Conduct Hypotesis testing"
   ]
  },
  {
   "cell_type": "code",
   "execution_count": 39,
   "metadata": {},
   "outputs": [
    {
     "name": "stdout",
     "output_type": "stream",
     "text": [
      "Dismiss the null hypothesis. There's a noteworthy association.\n"
     ]
    }
   ],
   "source": [
    "if p_value < 0.05:\n",
    "    print(\"Dismiss the null hypothesis. There's a noteworthy association.\")\n",
    "else:\n",
    "    print(\"Reject the null hypothesis ineffectively. Not a very strong link.\")"
   ]
  }
 ],
 "metadata": {
  "kernelspec": {
   "display_name": "base",
   "language": "python",
   "name": "python3"
  },
  "language_info": {
   "codemirror_mode": {
    "name": "ipython",
    "version": 3
   },
   "file_extension": ".py",
   "mimetype": "text/x-python",
   "name": "python",
   "nbconvert_exporter": "python",
   "pygments_lexer": "ipython3",
   "version": "3.11.5"
  }
 },
 "nbformat": 4,
 "nbformat_minor": 2
}
