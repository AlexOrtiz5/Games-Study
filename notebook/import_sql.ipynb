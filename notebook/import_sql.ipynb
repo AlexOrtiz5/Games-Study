{
 "cells": [
  {
   "cell_type": "markdown",
   "metadata": {},
   "source": [
    "# Import the libraries that are necesaries"
   ]
  },
  {
   "cell_type": "code",
   "execution_count": 1,
   "metadata": {},
   "outputs": [],
   "source": [
    "import pandas as pd\n",
    "import getpass  # To get the password without showing the input\n",
    "from sqlalchemy import create_engine"
   ]
  },
  {
   "cell_type": "markdown",
   "metadata": {},
   "source": [
    "## Get the necesary information to connect to mysql\n",
    " ** important note remmember the password that you use for mysql**"
   ]
  },
  {
   "cell_type": "code",
   "execution_count": 2,
   "metadata": {},
   "outputs": [],
   "source": [
    "# Specify your MySQL database connection details\n",
    "password = getpass.getpass()\n",
    "user = 'root'\n",
    "database_name = 'steam_games'\n",
    "connection_string = f'mysql+pymysql://{user}:' + password + '@localhost/' + database_name"
   ]
  },
  {
   "cell_type": "markdown",
   "metadata": {},
   "source": [
    "### Read the CSVs"
   ]
  },
  {
   "cell_type": "code",
   "execution_count": 3,
   "metadata": {},
   "outputs": [],
   "source": [
    "game_df = pd.read_csv('../data/clean/game.csv')\n",
    "languages_df = pd.read_csv('../data/clean/languages.csv')\n",
    "platform_df = pd.read_csv('../data/clean/platform.csv')\n",
    "metacritic_df = pd.read_csv('../data/clean/metacritic.csv')\n",
    "user_feedback_df = pd.read_csv('../data/clean/user_feedback.csv')\n",
    "playtime_df = pd.read_csv('../data/clean/playtime.csv')\n",
    "development_df = pd.read_csv('../data/clean/development.csv')\n",
    "categorization_df = pd.read_csv('../data/clean/categorization.csv')\n",
    "media_df = pd.read_csv('../data/clean/media.csv')"
   ]
  },
  {
   "cell_type": "markdown",
   "metadata": {},
   "source": [
    "# Import the data of all datasets"
   ]
  },
  {
   "cell_type": "code",
   "execution_count": 4,
   "metadata": {},
   "outputs": [
    {
     "data": {
      "text/plain": [
       "85103"
      ]
     },
     "execution_count": 4,
     "metadata": {},
     "output_type": "execute_result"
    }
   ],
   "source": [
    "# Create the MySQL engine\n",
    "engine = create_engine(connection_string)\n",
    "\n",
    "# List of categorical columns to truncate\n",
    "categorical_columns = ['about_the_game', 'reviews', 'header_image', 'website', 'support_url', 'support_email']\n",
    "\n",
    "# Truncate text in each categorical column\n",
    "for col in categorical_columns:\n",
    "    game_df[col] = game_df[col].str[:1000]\n",
    "\n",
    "# Specify the table name in your database\n",
    "table_name = 'game'\n",
    "\n",
    "# Insert data into the MySQL table using SQLAlchemy `to_sql()` method\n",
    "game_df.to_sql(table_name, con=engine, if_exists='append', index=False)"
   ]
  },
  {
   "cell_type": "code",
   "execution_count": 5,
   "metadata": {},
   "outputs": [
    {
     "data": {
      "text/plain": [
       "85103"
      ]
     },
     "execution_count": 5,
     "metadata": {},
     "output_type": "execute_result"
    }
   ],
   "source": [
    "# Create the MySQL engine\n",
    "engine = create_engine(connection_string)\n",
    "\n",
    "# List of categorical columns to truncate\n",
    "categorical_columns = ['supported_languages', 'full_audio_languages']\n",
    "\n",
    "# Truncate text in each categorical column\n",
    "for col in categorical_columns:\n",
    "    languages_df[col] = languages_df[col].str[:1000]\n",
    "\n",
    "# Specify the table name in your database\n",
    "table_name = 'languages'\n",
    "\n",
    "# Insert data into the MySQL table using SQLAlchemy `to_sql()` method\n",
    "languages_df.to_sql(table_name, con=engine, if_exists='append', index=False)"
   ]
  },
  {
   "cell_type": "code",
   "execution_count": 6,
   "metadata": {},
   "outputs": [
    {
     "data": {
      "text/plain": [
       "85103"
      ]
     },
     "execution_count": 6,
     "metadata": {},
     "output_type": "execute_result"
    }
   ],
   "source": [
    "# Create the MySQL engine\n",
    "engine = create_engine(connection_string)\n",
    "\n",
    "# Specify the table name in your database\n",
    "table_name = 'platform'\n",
    "\n",
    "# Insert data into the MySQL table using SQLAlchemy `to_sql()` method\n",
    "platform_df.to_sql(table_name, con=engine, if_exists='append', index=False)"
   ]
  },
  {
   "cell_type": "code",
   "execution_count": 7,
   "metadata": {},
   "outputs": [
    {
     "data": {
      "text/plain": [
       "85103"
      ]
     },
     "execution_count": 7,
     "metadata": {},
     "output_type": "execute_result"
    }
   ],
   "source": [
    "# Create the MySQL engine\n",
    "engine = create_engine(connection_string)\n",
    "\n",
    "# Specify the table name in your database\n",
    "table_name = 'metacritic'\n",
    "\n",
    "# Insert data into the MySQL table using SQLAlchemy `to_sql()` method\n",
    "metacritic_df.to_sql(table_name, con=engine, if_exists='append', index=False)"
   ]
  },
  {
   "cell_type": "code",
   "execution_count": 8,
   "metadata": {},
   "outputs": [
    {
     "data": {
      "text/plain": [
       "85103"
      ]
     },
     "execution_count": 8,
     "metadata": {},
     "output_type": "execute_result"
    }
   ],
   "source": [
    "# Create the MySQL engine\n",
    "engine = create_engine(connection_string)\n",
    "\n",
    "# Specify the table name in your database\n",
    "table_name = 'user_feedback'\n",
    "\n",
    "# Insert data into the MySQL table using SQLAlchemy `to_sql()` method\n",
    "user_feedback_df.to_sql(table_name, con=engine, if_exists='append', index=False)"
   ]
  },
  {
   "cell_type": "code",
   "execution_count": 9,
   "metadata": {},
   "outputs": [
    {
     "data": {
      "text/plain": [
       "85103"
      ]
     },
     "execution_count": 9,
     "metadata": {},
     "output_type": "execute_result"
    }
   ],
   "source": [
    "# Create the MySQL engine\n",
    "engine = create_engine(connection_string)\n",
    "\n",
    "# Specify the table name in your database\n",
    "table_name = 'playtime'\n",
    "\n",
    "# Insert data into the MySQL table using SQLAlchemy `to_sql()` method\n",
    "playtime_df.to_sql(table_name, con=engine, if_exists='append', index=False)"
   ]
  },
  {
   "cell_type": "code",
   "execution_count": 10,
   "metadata": {},
   "outputs": [
    {
     "data": {
      "text/plain": [
       "85103"
      ]
     },
     "execution_count": 10,
     "metadata": {},
     "output_type": "execute_result"
    }
   ],
   "source": [
    "# Create the MySQL engine\n",
    "engine = create_engine(connection_string)\n",
    "\n",
    "# List of categorical columns to truncate\n",
    "categorical_columns = ['developers', 'publishers']\n",
    "\n",
    "# Truncate text in each categorical column\n",
    "for col in categorical_columns:\n",
    "    development_df[col] = development_df[col].str[:1000]\n",
    "\n",
    "# Specify the table name in your database\n",
    "table_name = 'development'\n",
    "\n",
    "# Insert data into the MySQL table using SQLAlchemy `to_sql()` method\n",
    "development_df.to_sql(table_name, con=engine, if_exists='append', index=False)"
   ]
  },
  {
   "cell_type": "code",
   "execution_count": 11,
   "metadata": {},
   "outputs": [
    {
     "data": {
      "text/plain": [
       "85103"
      ]
     },
     "execution_count": 11,
     "metadata": {},
     "output_type": "execute_result"
    }
   ],
   "source": [
    "# Create the MySQL engine\n",
    "engine = create_engine(connection_string)\n",
    "\n",
    "# List of categorical columns to truncate\n",
    "categorical_columns = ['categories', 'genres', 'tags']\n",
    "\n",
    "# Truncate text in each categorical column\n",
    "for col in categorical_columns:\n",
    "    categorization_df[col] = categorization_df[col].str[:1000]\n",
    "\n",
    "# Specify the table name in your database\n",
    "table_name = 'categorization'\n",
    "\n",
    "# Insert data into the MySQL table using SQLAlchemy `to_sql()` method\n",
    "categorization_df.to_sql(table_name, con=engine, if_exists='append', index=False)"
   ]
  },
  {
   "cell_type": "code",
   "execution_count": 12,
   "metadata": {},
   "outputs": [
    {
     "data": {
      "text/plain": [
       "85103"
      ]
     },
     "execution_count": 12,
     "metadata": {},
     "output_type": "execute_result"
    }
   ],
   "source": [
    "# Create the MySQL engine\n",
    "engine = create_engine(connection_string)\n",
    "\n",
    "# List of categorical columns to truncate\n",
    "categorical_columns = ['screenshots', 'movies']\n",
    "\n",
    "# Truncate text in each categorical column\n",
    "for col in categorical_columns:\n",
    "    media_df[col] = media_df[col].str[:1000]\n",
    "\n",
    "# Specify the table name in your database\n",
    "table_name = 'media'\n",
    "\n",
    "# Insert data into the MySQL table using SQLAlchemy `to_sql()` method\n",
    "media_df.to_sql(table_name, con=engine, if_exists='append', index=False)"
   ]
  }
 ],
 "metadata": {
  "kernelspec": {
   "display_name": "base",
   "language": "python",
   "name": "python3"
  },
  "language_info": {
   "codemirror_mode": {
    "name": "ipython",
    "version": 3
   },
   "file_extension": ".py",
   "mimetype": "text/x-python",
   "name": "python",
   "nbconvert_exporter": "python",
   "pygments_lexer": "ipython3",
   "version": "3.11.5"
  }
 },
 "nbformat": 4,
 "nbformat_minor": 2
}
