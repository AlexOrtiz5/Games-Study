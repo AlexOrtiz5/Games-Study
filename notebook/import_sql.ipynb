{
 "cells": [
  {
   "cell_type": "markdown",
   "metadata": {},
   "source": [
    "# Import the libraries that are necesaries"
   ]
  },
  {
   "cell_type": "code",
   "execution_count": 1,
   "metadata": {},
   "outputs": [],
   "source": [
    "import pandas as pd\n",
    "import getpass  # To get the password without showing the input\n",
    "from sqlalchemy import create_engine"
   ]
  },
  {
   "cell_type": "markdown",
   "metadata": {},
   "source": [
    "## Get the necesary information to connect to mysql\n",
    " ** important note remmember the password that you use for mysql**"
   ]
  },
  {
   "cell_type": "code",
   "execution_count": 2,
   "metadata": {},
   "outputs": [],
   "source": [
    "# Specify your MySQL database connection details\n",
    "password = getpass.getpass()\n",
    "user = 'root'\n",
    "database_name = 'steam_games'\n",
    "connection_string = f'mysql+pymysql://{user}:' + password + '@localhost/' + database_name"
   ]
  },
  {
   "cell_type": "markdown",
   "metadata": {},
   "source": [
    "### Read the CSVs"
   ]
  },
  {
   "cell_type": "code",
   "execution_count": 3,
   "metadata": {},
   "outputs": [],
   "source": [
    "game_df = pd.read_csv('../data/clean/game.csv')\n",
    "languages_df = pd.read_csv('../data/clean/languages.csv')\n",
    "platform_df = pd.read_csv('../data/clean/platform.csv')\n",
    "metacritic_df = pd.read_csv('../data/clean/metacritic.csv')\n",
    "user_feedback_df = pd.read_csv('../data/clean/user_feedback.csv')\n",
    "playtime_df = pd.read_csv('../data/clean/playtime.csv')\n",
    "development_df = pd.read_csv('../data/clean/development.csv')\n",
    "categorization_df = pd.read_csv('../data/clean/categorization.csv')\n",
    "media_df = pd.read_csv('../data/clean/media.csv')"
   ]
  },
  {
   "cell_type": "markdown",
   "metadata": {},
   "source": [
    "# Import the data of all datasets"
   ]
  },
  {
   "cell_type": "markdown",
   "metadata": {},
   "source": [
    "Functions to use"
   ]
  },
  {
   "cell_type": "code",
   "execution_count": 4,
   "metadata": {},
   "outputs": [],
   "source": [
    "# Define a function to truncate text columns\n",
    "def truncate_text_columns(df, columns, max_length=1000):\n",
    "    for col in columns:\n",
    "        df[col] = df[col].str[:max_length]\n",
    "\n",
    "# Define a function to save data to MySQL\n",
    "def save_to_mysql(dataframe, table_name, engine):\n",
    "    dataframe.to_sql(table_name, con=engine, if_exists='append', index=False)"
   ]
  },
  {
   "cell_type": "markdown",
   "metadata": {},
   "source": [
    "Create Engine"
   ]
  },
  {
   "cell_type": "code",
   "execution_count": 5,
   "metadata": {},
   "outputs": [],
   "source": [
    "# Create the MySQL engine\n",
    "engine = create_engine(connection_string)"
   ]
  },
  {
   "cell_type": "code",
   "execution_count": 6,
   "metadata": {},
   "outputs": [],
   "source": [
    "# List of categorical columns to truncate\n",
    "categorical_columns = ['about_the_game', 'reviews', 'header_image', 'website', 'support_url', 'support_email']\n",
    "truncate_text_columns(game_df, categorical_columns)\n",
    "\n",
    "# Save the 'game' dataframe to MySQL\n",
    "save_to_mysql(game_df, 'game', engine)"
   ]
  },
  {
   "cell_type": "code",
   "execution_count": 7,
   "metadata": {},
   "outputs": [],
   "source": [
    "# List of categorical columns to truncate\n",
    "categorical_columns = ['supported_languages', 'full_audio_languages']\n",
    "truncate_text_columns(languages_df, categorical_columns)\n",
    "\n",
    "# Save the 'languages' dataframe to MySQL\n",
    "save_to_mysql(languages_df, 'languages', engine)"
   ]
  },
  {
   "cell_type": "code",
   "execution_count": 8,
   "metadata": {},
   "outputs": [],
   "source": [
    "# Save the 'platform' dataframe to MySQL\n",
    "save_to_mysql(platform_df, 'platform', engine)"
   ]
  },
  {
   "cell_type": "code",
   "execution_count": 9,
   "metadata": {},
   "outputs": [],
   "source": [
    "# Save the 'metacritic' dataframe to MySQL\n",
    "save_to_mysql(metacritic_df, 'metacritic', engine)"
   ]
  },
  {
   "cell_type": "code",
   "execution_count": 10,
   "metadata": {},
   "outputs": [],
   "source": [
    "# Save the 'user_feedback' dataframe to MySQL\n",
    "save_to_mysql(user_feedback_df, 'user_feedback', engine)"
   ]
  },
  {
   "cell_type": "code",
   "execution_count": 11,
   "metadata": {},
   "outputs": [],
   "source": [
    "# Save the 'playtime' dataframe to MySQL\n",
    "save_to_mysql(playtime_df, 'playtime', engine)"
   ]
  },
  {
   "cell_type": "code",
   "execution_count": 12,
   "metadata": {},
   "outputs": [],
   "source": [
    "# List of categorical columns to truncate\n",
    "categorical_columns = ['developers', 'publishers']\n",
    "truncate_text_columns(development_df, categorical_columns)\n",
    "\n",
    "# Save the 'development' dataframe to MySQL\n",
    "save_to_mysql(development_df, 'development', engine)"
   ]
  },
  {
   "cell_type": "code",
   "execution_count": 13,
   "metadata": {},
   "outputs": [],
   "source": [
    "# List of categorical columns to truncate\n",
    "categorical_columns = ['categories', 'genres', 'tags']\n",
    "truncate_text_columns(categorization_df, categorical_columns)\n",
    "\n",
    "# Save the 'categorization' dataframe to MySQL\n",
    "save_to_mysql(categorization_df, 'categorization', engine)"
   ]
  },
  {
   "cell_type": "code",
   "execution_count": 14,
   "metadata": {},
   "outputs": [],
   "source": [
    "# List of categorical columns to truncate\n",
    "categorical_columns = ['screenshots', 'movies']\n",
    "truncate_text_columns(media_df, categorical_columns)\n",
    "\n",
    "# Save the 'media' dataframe to MySQL\n",
    "save_to_mysql(media_df, 'media', engine)"
   ]
  }
 ],
 "metadata": {
  "kernelspec": {
   "display_name": "base",
   "language": "python",
   "name": "python3"
  },
  "language_info": {
   "codemirror_mode": {
    "name": "ipython",
    "version": 3
   },
   "file_extension": ".py",
   "mimetype": "text/x-python",
   "name": "python",
   "nbconvert_exporter": "python",
   "pygments_lexer": "ipython3",
   "version": "3.11.5"
  }
 },
 "nbformat": 4,
 "nbformat_minor": 2
}
